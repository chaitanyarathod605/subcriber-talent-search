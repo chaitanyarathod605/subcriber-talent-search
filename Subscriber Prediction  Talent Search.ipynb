{
 "cells": [
  {
   "cell_type": "markdown",
   "id": "6e11262f",
   "metadata": {},
   "source": [
    "# Problem Statment"
   ]
  },
  {
   "cell_type": "markdown",
   "id": "c7db6f44",
   "metadata": {},
   "source": [
    "### This hackathon will try to address the challenges of banking telecallers when they call blindly to people in order to sell term deposit plans. The aim of this hackathon is to find the most accurate prediction of whether a person to be called will subscribe to the term deposit plan or not using any of the machine learning algorithms. The participants can use the historical data that consists of different features of customers and whether they subscribed to the plan or not. Using this data, the participants need to build a machine learning model in order to make predictions."
   ]
  },
  {
   "cell_type": "code",
   "execution_count": 1,
   "id": "ab4df19e",
   "metadata": {},
   "outputs": [],
   "source": [
    "import numpy as np\n",
    "import pandas as pd\n",
    "import seaborn as sns\n",
    "import matplotlib.pyplot as plt"
   ]
  },
  {
   "cell_type": "code",
   "execution_count": 2,
   "id": "b9bcadbd",
   "metadata": {},
   "outputs": [],
   "source": [
    "plt.rcParams['figure.figsize']=[15,10]\n",
    "pd.options.display.max_columns = None\n",
    "import warnings\n",
    "warnings.filterwarnings('ignore')"
   ]
  },
  {
   "cell_type": "code",
   "execution_count": 3,
   "id": "71820306",
   "metadata": {},
   "outputs": [],
   "source": [
    "train = pd.read_csv('train.csv')\n",
    "test = pd.read_csv('test.csv')"
   ]
  },
  {
   "cell_type": "code",
   "execution_count": 4,
   "id": "d2491b6c",
   "metadata": {},
   "outputs": [
    {
     "data": {
      "text/plain": [
       "((21000, 17), (9000, 16))"
      ]
     },
     "execution_count": 4,
     "metadata": {},
     "output_type": "execute_result"
    }
   ],
   "source": [
    "train.shape,test.shape"
   ]
  },
  {
   "cell_type": "code",
   "execution_count": 5,
   "id": "d1b67100",
   "metadata": {},
   "outputs": [
    {
     "data": {
      "text/html": [
       "<div>\n",
       "<style scoped>\n",
       "    .dataframe tbody tr th:only-of-type {\n",
       "        vertical-align: middle;\n",
       "    }\n",
       "\n",
       "    .dataframe tbody tr th {\n",
       "        vertical-align: top;\n",
       "    }\n",
       "\n",
       "    .dataframe thead th {\n",
       "        text-align: right;\n",
       "    }\n",
       "</style>\n",
       "<table border=\"1\" class=\"dataframe\">\n",
       "  <thead>\n",
       "    <tr style=\"text-align: right;\">\n",
       "      <th></th>\n",
       "      <th>age</th>\n",
       "      <th>job</th>\n",
       "      <th>marital</th>\n",
       "      <th>education</th>\n",
       "      <th>default</th>\n",
       "      <th>balance</th>\n",
       "      <th>housing</th>\n",
       "      <th>loan</th>\n",
       "      <th>contact</th>\n",
       "      <th>day</th>\n",
       "      <th>month</th>\n",
       "      <th>duration</th>\n",
       "      <th>campaign</th>\n",
       "      <th>pdays</th>\n",
       "      <th>previous</th>\n",
       "      <th>poutcome</th>\n",
       "      <th>y_bool</th>\n",
       "    </tr>\n",
       "  </thead>\n",
       "  <tbody>\n",
       "    <tr>\n",
       "      <th>0</th>\n",
       "      <td>51</td>\n",
       "      <td>admin.</td>\n",
       "      <td>married</td>\n",
       "      <td>tertiary</td>\n",
       "      <td>no</td>\n",
       "      <td>148</td>\n",
       "      <td>no</td>\n",
       "      <td>no</td>\n",
       "      <td>cellular</td>\n",
       "      <td>15</td>\n",
       "      <td>apr</td>\n",
       "      <td>263</td>\n",
       "      <td>2</td>\n",
       "      <td>-1</td>\n",
       "      <td>0</td>\n",
       "      <td>unknown</td>\n",
       "      <td>0</td>\n",
       "    </tr>\n",
       "    <tr>\n",
       "      <th>1</th>\n",
       "      <td>55</td>\n",
       "      <td>blue-collar</td>\n",
       "      <td>married</td>\n",
       "      <td>secondary</td>\n",
       "      <td>no</td>\n",
       "      <td>7160</td>\n",
       "      <td>yes</td>\n",
       "      <td>no</td>\n",
       "      <td>unknown</td>\n",
       "      <td>4</td>\n",
       "      <td>may</td>\n",
       "      <td>315</td>\n",
       "      <td>1</td>\n",
       "      <td>-1</td>\n",
       "      <td>0</td>\n",
       "      <td>unknown</td>\n",
       "      <td>0</td>\n",
       "    </tr>\n",
       "    <tr>\n",
       "      <th>2</th>\n",
       "      <td>65</td>\n",
       "      <td>blue-collar</td>\n",
       "      <td>divorced</td>\n",
       "      <td>tertiary</td>\n",
       "      <td>no</td>\n",
       "      <td>2197</td>\n",
       "      <td>yes</td>\n",
       "      <td>no</td>\n",
       "      <td>cellular</td>\n",
       "      <td>12</td>\n",
       "      <td>may</td>\n",
       "      <td>102</td>\n",
       "      <td>2</td>\n",
       "      <td>-1</td>\n",
       "      <td>0</td>\n",
       "      <td>unknown</td>\n",
       "      <td>0</td>\n",
       "    </tr>\n",
       "    <tr>\n",
       "      <th>3</th>\n",
       "      <td>25</td>\n",
       "      <td>admin.</td>\n",
       "      <td>married</td>\n",
       "      <td>secondary</td>\n",
       "      <td>no</td>\n",
       "      <td>6658</td>\n",
       "      <td>yes</td>\n",
       "      <td>no</td>\n",
       "      <td>cellular</td>\n",
       "      <td>16</td>\n",
       "      <td>feb</td>\n",
       "      <td>197</td>\n",
       "      <td>1</td>\n",
       "      <td>-1</td>\n",
       "      <td>0</td>\n",
       "      <td>unknown</td>\n",
       "      <td>1</td>\n",
       "    </tr>\n",
       "    <tr>\n",
       "      <th>4</th>\n",
       "      <td>36</td>\n",
       "      <td>services</td>\n",
       "      <td>married</td>\n",
       "      <td>secondary</td>\n",
       "      <td>no</td>\n",
       "      <td>1761</td>\n",
       "      <td>yes</td>\n",
       "      <td>no</td>\n",
       "      <td>cellular</td>\n",
       "      <td>19</td>\n",
       "      <td>sep</td>\n",
       "      <td>177</td>\n",
       "      <td>1</td>\n",
       "      <td>-1</td>\n",
       "      <td>0</td>\n",
       "      <td>success</td>\n",
       "      <td>0</td>\n",
       "    </tr>\n",
       "  </tbody>\n",
       "</table>\n",
       "</div>"
      ],
      "text/plain": [
       "   age          job   marital  education default  balance housing loan  \\\n",
       "0   51       admin.   married   tertiary      no      148      no   no   \n",
       "1   55  blue-collar   married  secondary      no     7160     yes   no   \n",
       "2   65  blue-collar  divorced   tertiary      no     2197     yes   no   \n",
       "3   25       admin.   married  secondary      no     6658     yes   no   \n",
       "4   36     services   married  secondary      no     1761     yes   no   \n",
       "\n",
       "    contact  day month  duration  campaign  pdays  previous poutcome  y_bool  \n",
       "0  cellular   15   apr       263         2     -1         0  unknown       0  \n",
       "1   unknown    4   may       315         1     -1         0  unknown       0  \n",
       "2  cellular   12   may       102         2     -1         0  unknown       0  \n",
       "3  cellular   16   feb       197         1     -1         0  unknown       1  \n",
       "4  cellular   19   sep       177         1     -1         0  success       0  "
      ]
     },
     "execution_count": 5,
     "metadata": {},
     "output_type": "execute_result"
    }
   ],
   "source": [
    "train.head()"
   ]
  },
  {
   "cell_type": "code",
   "execution_count": 6,
   "id": "d75097da",
   "metadata": {
    "scrolled": true
   },
   "outputs": [
    {
     "data": {
      "text/html": [
       "<div>\n",
       "<style scoped>\n",
       "    .dataframe tbody tr th:only-of-type {\n",
       "        vertical-align: middle;\n",
       "    }\n",
       "\n",
       "    .dataframe tbody tr th {\n",
       "        vertical-align: top;\n",
       "    }\n",
       "\n",
       "    .dataframe thead th {\n",
       "        text-align: right;\n",
       "    }\n",
       "</style>\n",
       "<table border=\"1\" class=\"dataframe\">\n",
       "  <thead>\n",
       "    <tr style=\"text-align: right;\">\n",
       "      <th></th>\n",
       "      <th>age</th>\n",
       "      <th>job</th>\n",
       "      <th>marital</th>\n",
       "      <th>education</th>\n",
       "      <th>default</th>\n",
       "      <th>balance</th>\n",
       "      <th>housing</th>\n",
       "      <th>loan</th>\n",
       "      <th>contact</th>\n",
       "      <th>day</th>\n",
       "      <th>month</th>\n",
       "      <th>duration</th>\n",
       "      <th>campaign</th>\n",
       "      <th>pdays</th>\n",
       "      <th>previous</th>\n",
       "      <th>poutcome</th>\n",
       "    </tr>\n",
       "  </thead>\n",
       "  <tbody>\n",
       "    <tr>\n",
       "      <th>0</th>\n",
       "      <td>36</td>\n",
       "      <td>technician</td>\n",
       "      <td>divorced</td>\n",
       "      <td>secondary</td>\n",
       "      <td>no</td>\n",
       "      <td>1842</td>\n",
       "      <td>yes</td>\n",
       "      <td>yes</td>\n",
       "      <td>cellular</td>\n",
       "      <td>5</td>\n",
       "      <td>aug</td>\n",
       "      <td>149</td>\n",
       "      <td>1</td>\n",
       "      <td>-1</td>\n",
       "      <td>0</td>\n",
       "      <td>unknown</td>\n",
       "    </tr>\n",
       "    <tr>\n",
       "      <th>1</th>\n",
       "      <td>26</td>\n",
       "      <td>management</td>\n",
       "      <td>married</td>\n",
       "      <td>primary</td>\n",
       "      <td>no</td>\n",
       "      <td>165</td>\n",
       "      <td>no</td>\n",
       "      <td>no</td>\n",
       "      <td>cellular</td>\n",
       "      <td>7</td>\n",
       "      <td>nov</td>\n",
       "      <td>44</td>\n",
       "      <td>2</td>\n",
       "      <td>-1</td>\n",
       "      <td>0</td>\n",
       "      <td>unknown</td>\n",
       "    </tr>\n",
       "    <tr>\n",
       "      <th>2</th>\n",
       "      <td>50</td>\n",
       "      <td>management</td>\n",
       "      <td>married</td>\n",
       "      <td>unknown</td>\n",
       "      <td>no</td>\n",
       "      <td>5006</td>\n",
       "      <td>yes</td>\n",
       "      <td>no</td>\n",
       "      <td>cellular</td>\n",
       "      <td>7</td>\n",
       "      <td>may</td>\n",
       "      <td>664</td>\n",
       "      <td>2</td>\n",
       "      <td>-1</td>\n",
       "      <td>0</td>\n",
       "      <td>other</td>\n",
       "    </tr>\n",
       "    <tr>\n",
       "      <th>3</th>\n",
       "      <td>56</td>\n",
       "      <td>management</td>\n",
       "      <td>married</td>\n",
       "      <td>secondary</td>\n",
       "      <td>no</td>\n",
       "      <td>5122</td>\n",
       "      <td>no</td>\n",
       "      <td>no</td>\n",
       "      <td>cellular</td>\n",
       "      <td>9</td>\n",
       "      <td>aug</td>\n",
       "      <td>53</td>\n",
       "      <td>2</td>\n",
       "      <td>-1</td>\n",
       "      <td>0</td>\n",
       "      <td>unknown</td>\n",
       "    </tr>\n",
       "    <tr>\n",
       "      <th>4</th>\n",
       "      <td>26</td>\n",
       "      <td>blue-collar</td>\n",
       "      <td>married</td>\n",
       "      <td>tertiary</td>\n",
       "      <td>no</td>\n",
       "      <td>151</td>\n",
       "      <td>no</td>\n",
       "      <td>no</td>\n",
       "      <td>unknown</td>\n",
       "      <td>1</td>\n",
       "      <td>jul</td>\n",
       "      <td>67</td>\n",
       "      <td>5</td>\n",
       "      <td>130</td>\n",
       "      <td>0</td>\n",
       "      <td>unknown</td>\n",
       "    </tr>\n",
       "  </tbody>\n",
       "</table>\n",
       "</div>"
      ],
      "text/plain": [
       "   age          job   marital  education default  balance housing loan  \\\n",
       "0   36   technician  divorced  secondary      no     1842     yes  yes   \n",
       "1   26   management   married    primary      no      165      no   no   \n",
       "2   50   management   married    unknown      no     5006     yes   no   \n",
       "3   56   management   married  secondary      no     5122      no   no   \n",
       "4   26  blue-collar   married   tertiary      no      151      no   no   \n",
       "\n",
       "    contact  day month  duration  campaign  pdays  previous poutcome  \n",
       "0  cellular    5   aug       149         1     -1         0  unknown  \n",
       "1  cellular    7   nov        44         2     -1         0  unknown  \n",
       "2  cellular    7   may       664         2     -1         0    other  \n",
       "3  cellular    9   aug        53         2     -1         0  unknown  \n",
       "4   unknown    1   jul        67         5    130         0  unknown  "
      ]
     },
     "execution_count": 6,
     "metadata": {},
     "output_type": "execute_result"
    }
   ],
   "source": [
    "test.head()"
   ]
  },
  {
   "cell_type": "code",
   "execution_count": 7,
   "id": "e0436f62",
   "metadata": {},
   "outputs": [
    {
     "data": {
      "text/plain": [
       "<AxesSubplot:>"
      ]
     },
     "execution_count": 7,
     "metadata": {},
     "output_type": "execute_result"
    },
    {
     "data": {
      "image/png": "[encoded data removed]",
      "text/plain": [
       "<Figure size 1500x1000 with 1 Axes>"
      ]
     },
     "metadata": {},
     "output_type": "display_data"
    }
   ],
   "source": [
    "### Target Valraible...\n",
    "\n",
    "train.y_bool.value_counts().plot(kind='bar')"
   ]
  },
  {
   "cell_type": "code",
   "execution_count": 8,
   "id": "f088877e",
   "metadata": {},
   "outputs": [],
   "source": [
    "combined = pd.concat([train, test], ignore_index= True)"
   ]
  },
  {
   "cell_type": "code",
   "execution_count": 9,
   "id": "a7b15287",
   "metadata": {},
   "outputs": [
    {
     "data": {
      "text/plain": [
       "array(['admin.', 'blue-collar', 'services', 'self-employed', 'technician',\n",
       "       'management', 'unknown', 'unemployed', 'retired', 'housemaid',\n",
       "       'entrepreneur', 'student'], dtype=object)"
      ]
     },
     "execution_count": 9,
     "metadata": {},
     "output_type": "execute_result"
    }
   ],
   "source": [
    "combined.job.unique()"
   ]
  },
  {
   "cell_type": "markdown",
   "id": "9a33588a",
   "metadata": {},
   "source": [
    "### Lets bin the profession..."
   ]
  },
  {
   "cell_type": "code",
   "execution_count": 10,
   "id": "e1e9820c",
   "metadata": {},
   "outputs": [],
   "source": [
    "#Let bin the profession...\n",
    "def prof(x):\n",
    "    if x in ['unknown','unemployed','retired','student']:\n",
    "        return('unemployed')\n",
    "    elif x in ['admin.','entrepreneur','self-employed','management']:\n",
    "        return('employed')\n",
    "    elif x in ['blue-collar','services','technician','housemaid']:\n",
    "        return('blue-collar')\n",
    "    else:\n",
    "        return(x)"
   ]
  },
  {
   "cell_type": "code",
   "execution_count": 11,
   "id": "2fe29be7",
   "metadata": {},
   "outputs": [],
   "source": [
    "combined['profession']=combined.job.apply(prof)"
   ]
  },
  {
   "cell_type": "code",
   "execution_count": 12,
   "id": "efd4cc03",
   "metadata": {},
   "outputs": [
    {
     "data": {
      "text/plain": [
       "array(['employed', 'blue-collar', 'unemployed'], dtype=object)"
      ]
     },
     "execution_count": 12,
     "metadata": {},
     "output_type": "execute_result"
    }
   ],
   "source": [
    "combined.profession.unique()"
   ]
  },
  {
   "cell_type": "code",
   "execution_count": 13,
   "id": "f207f869",
   "metadata": {},
   "outputs": [
    {
     "data": {
      "text/html": [
       "<div>\n",
       "<style scoped>\n",
       "    .dataframe tbody tr th:only-of-type {\n",
       "        vertical-align: middle;\n",
       "    }\n",
       "\n",
       "    .dataframe tbody tr th {\n",
       "        vertical-align: top;\n",
       "    }\n",
       "\n",
       "    .dataframe thead th {\n",
       "        text-align: right;\n",
       "    }\n",
       "</style>\n",
       "<table border=\"1\" class=\"dataframe\">\n",
       "  <thead>\n",
       "    <tr style=\"text-align: right;\">\n",
       "      <th></th>\n",
       "      <th>age</th>\n",
       "      <th>job</th>\n",
       "      <th>marital</th>\n",
       "      <th>education</th>\n",
       "      <th>default</th>\n",
       "      <th>balance</th>\n",
       "      <th>housing</th>\n",
       "      <th>loan</th>\n",
       "      <th>contact</th>\n",
       "      <th>day</th>\n",
       "      <th>month</th>\n",
       "      <th>duration</th>\n",
       "      <th>campaign</th>\n",
       "      <th>pdays</th>\n",
       "      <th>previous</th>\n",
       "      <th>poutcome</th>\n",
       "      <th>y_bool</th>\n",
       "      <th>profession</th>\n",
       "    </tr>\n",
       "  </thead>\n",
       "  <tbody>\n",
       "    <tr>\n",
       "      <th>0</th>\n",
       "      <td>51</td>\n",
       "      <td>admin.</td>\n",
       "      <td>married</td>\n",
       "      <td>tertiary</td>\n",
       "      <td>no</td>\n",
       "      <td>148</td>\n",
       "      <td>no</td>\n",
       "      <td>no</td>\n",
       "      <td>cellular</td>\n",
       "      <td>15</td>\n",
       "      <td>apr</td>\n",
       "      <td>263</td>\n",
       "      <td>2</td>\n",
       "      <td>-1</td>\n",
       "      <td>0</td>\n",
       "      <td>unknown</td>\n",
       "      <td>0.0</td>\n",
       "      <td>employed</td>\n",
       "    </tr>\n",
       "    <tr>\n",
       "      <th>1</th>\n",
       "      <td>55</td>\n",
       "      <td>blue-collar</td>\n",
       "      <td>married</td>\n",
       "      <td>secondary</td>\n",
       "      <td>no</td>\n",
       "      <td>7160</td>\n",
       "      <td>yes</td>\n",
       "      <td>no</td>\n",
       "      <td>unknown</td>\n",
       "      <td>4</td>\n",
       "      <td>may</td>\n",
       "      <td>315</td>\n",
       "      <td>1</td>\n",
       "      <td>-1</td>\n",
       "      <td>0</td>\n",
       "      <td>unknown</td>\n",
       "      <td>0.0</td>\n",
       "      <td>blue-collar</td>\n",
       "    </tr>\n",
       "    <tr>\n",
       "      <th>2</th>\n",
       "      <td>65</td>\n",
       "      <td>blue-collar</td>\n",
       "      <td>divorced</td>\n",
       "      <td>tertiary</td>\n",
       "      <td>no</td>\n",
       "      <td>2197</td>\n",
       "      <td>yes</td>\n",
       "      <td>no</td>\n",
       "      <td>cellular</td>\n",
       "      <td>12</td>\n",
       "      <td>may</td>\n",
       "      <td>102</td>\n",
       "      <td>2</td>\n",
       "      <td>-1</td>\n",
       "      <td>0</td>\n",
       "      <td>unknown</td>\n",
       "      <td>0.0</td>\n",
       "      <td>blue-collar</td>\n",
       "    </tr>\n",
       "    <tr>\n",
       "      <th>3</th>\n",
       "      <td>25</td>\n",
       "      <td>admin.</td>\n",
       "      <td>married</td>\n",
       "      <td>secondary</td>\n",
       "      <td>no</td>\n",
       "      <td>6658</td>\n",
       "      <td>yes</td>\n",
       "      <td>no</td>\n",
       "      <td>cellular</td>\n",
       "      <td>16</td>\n",
       "      <td>feb</td>\n",
       "      <td>197</td>\n",
       "      <td>1</td>\n",
       "      <td>-1</td>\n",
       "      <td>0</td>\n",
       "      <td>unknown</td>\n",
       "      <td>1.0</td>\n",
       "      <td>employed</td>\n",
       "    </tr>\n",
       "    <tr>\n",
       "      <th>4</th>\n",
       "      <td>36</td>\n",
       "      <td>services</td>\n",
       "      <td>married</td>\n",
       "      <td>secondary</td>\n",
       "      <td>no</td>\n",
       "      <td>1761</td>\n",
       "      <td>yes</td>\n",
       "      <td>no</td>\n",
       "      <td>cellular</td>\n",
       "      <td>19</td>\n",
       "      <td>sep</td>\n",
       "      <td>177</td>\n",
       "      <td>1</td>\n",
       "      <td>-1</td>\n",
       "      <td>0</td>\n",
       "      <td>success</td>\n",
       "      <td>0.0</td>\n",
       "      <td>blue-collar</td>\n",
       "    </tr>\n",
       "    <tr>\n",
       "      <th>...</th>\n",
       "      <td>...</td>\n",
       "      <td>...</td>\n",
       "      <td>...</td>\n",
       "      <td>...</td>\n",
       "      <td>...</td>\n",
       "      <td>...</td>\n",
       "      <td>...</td>\n",
       "      <td>...</td>\n",
       "      <td>...</td>\n",
       "      <td>...</td>\n",
       "      <td>...</td>\n",
       "      <td>...</td>\n",
       "      <td>...</td>\n",
       "      <td>...</td>\n",
       "      <td>...</td>\n",
       "      <td>...</td>\n",
       "      <td>...</td>\n",
       "      <td>...</td>\n",
       "    </tr>\n",
       "    <tr>\n",
       "      <th>29995</th>\n",
       "      <td>38</td>\n",
       "      <td>blue-collar</td>\n",
       "      <td>single</td>\n",
       "      <td>tertiary</td>\n",
       "      <td>yes</td>\n",
       "      <td>1704</td>\n",
       "      <td>no</td>\n",
       "      <td>no</td>\n",
       "      <td>cellular</td>\n",
       "      <td>24</td>\n",
       "      <td>aug</td>\n",
       "      <td>167</td>\n",
       "      <td>2</td>\n",
       "      <td>-1</td>\n",
       "      <td>0</td>\n",
       "      <td>unknown</td>\n",
       "      <td>NaN</td>\n",
       "      <td>blue-collar</td>\n",
       "    </tr>\n",
       "    <tr>\n",
       "      <th>29996</th>\n",
       "      <td>52</td>\n",
       "      <td>technician</td>\n",
       "      <td>divorced</td>\n",
       "      <td>primary</td>\n",
       "      <td>no</td>\n",
       "      <td>557</td>\n",
       "      <td>no</td>\n",
       "      <td>no</td>\n",
       "      <td>cellular</td>\n",
       "      <td>24</td>\n",
       "      <td>nov</td>\n",
       "      <td>590</td>\n",
       "      <td>4</td>\n",
       "      <td>-1</td>\n",
       "      <td>0</td>\n",
       "      <td>unknown</td>\n",
       "      <td>NaN</td>\n",
       "      <td>blue-collar</td>\n",
       "    </tr>\n",
       "    <tr>\n",
       "      <th>29997</th>\n",
       "      <td>30</td>\n",
       "      <td>blue-collar</td>\n",
       "      <td>single</td>\n",
       "      <td>tertiary</td>\n",
       "      <td>no</td>\n",
       "      <td>374</td>\n",
       "      <td>yes</td>\n",
       "      <td>yes</td>\n",
       "      <td>unknown</td>\n",
       "      <td>1</td>\n",
       "      <td>apr</td>\n",
       "      <td>146</td>\n",
       "      <td>2</td>\n",
       "      <td>-1</td>\n",
       "      <td>0</td>\n",
       "      <td>unknown</td>\n",
       "      <td>NaN</td>\n",
       "      <td>blue-collar</td>\n",
       "    </tr>\n",
       "    <tr>\n",
       "      <th>29998</th>\n",
       "      <td>41</td>\n",
       "      <td>admin.</td>\n",
       "      <td>married</td>\n",
       "      <td>secondary</td>\n",
       "      <td>no</td>\n",
       "      <td>168</td>\n",
       "      <td>no</td>\n",
       "      <td>no</td>\n",
       "      <td>unknown</td>\n",
       "      <td>13</td>\n",
       "      <td>apr</td>\n",
       "      <td>143</td>\n",
       "      <td>1</td>\n",
       "      <td>88</td>\n",
       "      <td>0</td>\n",
       "      <td>unknown</td>\n",
       "      <td>NaN</td>\n",
       "      <td>employed</td>\n",
       "    </tr>\n",
       "    <tr>\n",
       "      <th>29999</th>\n",
       "      <td>25</td>\n",
       "      <td>technician</td>\n",
       "      <td>married</td>\n",
       "      <td>tertiary</td>\n",
       "      <td>no</td>\n",
       "      <td>1703</td>\n",
       "      <td>yes</td>\n",
       "      <td>no</td>\n",
       "      <td>cellular</td>\n",
       "      <td>31</td>\n",
       "      <td>jul</td>\n",
       "      <td>152</td>\n",
       "      <td>2</td>\n",
       "      <td>-1</td>\n",
       "      <td>0</td>\n",
       "      <td>unknown</td>\n",
       "      <td>NaN</td>\n",
       "      <td>blue-collar</td>\n",
       "    </tr>\n",
       "  </tbody>\n",
       "</table>\n",
       "<p>30000 rows × 18 columns</p>\n",
       "</div>"
      ],
      "text/plain": [
       "       age          job   marital  education default  balance housing loan  \\\n",
       "0       51       admin.   married   tertiary      no      148      no   no   \n",
       "1       55  blue-collar   married  secondary      no     7160     yes   no   \n",
       "2       65  blue-collar  divorced   tertiary      no     2197     yes   no   \n",
       "3       25       admin.   married  secondary      no     6658     yes   no   \n",
       "4       36     services   married  secondary      no     1761     yes   no   \n",
       "...    ...          ...       ...        ...     ...      ...     ...  ...   \n",
       "29995   38  blue-collar    single   tertiary     yes     1704      no   no   \n",
       "29996   52   technician  divorced    primary      no      557      no   no   \n",
       "29997   30  blue-collar    single   tertiary      no      374     yes  yes   \n",
       "29998   41       admin.   married  secondary      no      168      no   no   \n",
       "29999   25   technician   married   tertiary      no     1703     yes   no   \n",
       "\n",
       "        contact  day month  duration  campaign  pdays  previous poutcome  \\\n",
       "0      cellular   15   apr       263         2     -1         0  unknown   \n",
       "1       unknown    4   may       315         1     -1         0  unknown   \n",
       "2      cellular   12   may       102         2     -1         0  unknown   \n",
       "3      cellular   16   feb       197         1     -1         0  unknown   \n",
       "4      cellular   19   sep       177         1     -1         0  success   \n",
       "...         ...  ...   ...       ...       ...    ...       ...      ...   \n",
       "29995  cellular   24   aug       167         2     -1         0  unknown   \n",
       "29996  cellular   24   nov       590         4     -1         0  unknown   \n",
       "29997   unknown    1   apr       146         2     -1         0  unknown   \n",
       "29998   unknown   13   apr       143         1     88         0  unknown   \n",
       "29999  cellular   31   jul       152         2     -1         0  unknown   \n",
       "\n",
       "       y_bool   profession  \n",
       "0         0.0     employed  \n",
       "1         0.0  blue-collar  \n",
       "2         0.0  blue-collar  \n",
       "3         1.0     employed  \n",
       "4         0.0  blue-collar  \n",
       "...       ...          ...  \n",
       "29995     NaN  blue-collar  \n",
       "29996     NaN  blue-collar  \n",
       "29997     NaN  blue-collar  \n",
       "29998     NaN     employed  \n",
       "29999     NaN  blue-collar  \n",
       "\n",
       "[30000 rows x 18 columns]"
      ]
     },
     "execution_count": 13,
     "metadata": {},
     "output_type": "execute_result"
    }
   ],
   "source": [
    "combined"
   ]
  },
  {
   "cell_type": "code",
   "execution_count": 14,
   "id": "02098faa",
   "metadata": {},
   "outputs": [],
   "source": [
    "tbl=pd.crosstab(combined.profession,combined.y_bool)\n",
    "\n",
    "import scipy.stats as stats\n",
    "teststats,pvalue,df,exp_freq = stats.chi2_contingency(tbl)"
   ]
  },
  {
   "cell_type": "code",
   "execution_count": 15,
   "id": "76cbc286",
   "metadata": {
    "scrolled": true
   },
   "outputs": [
    {
     "name": "stdout",
     "output_type": "stream",
     "text": [
      "0.8881338829532087\n"
     ]
    }
   ],
   "source": [
    "print(pvalue)"
   ]
  },
  {
   "cell_type": "code",
   "execution_count": 16,
   "id": "562e7113",
   "metadata": {},
   "outputs": [
    {
     "data": {
      "text/plain": [
       "<AxesSubplot:xlabel='profession'>"
      ]
     },
     "execution_count": 16,
     "metadata": {},
     "output_type": "execute_result"
    },
    {
     "data": {
      "image/png": "[encoded data removed]",
      "text/plain": [
       "<Figure size 1500x1000 with 1 Axes>"
      ]
     },
     "metadata": {},
     "output_type": "display_data"
    }
   ],
   "source": [
    "tbl.plot(kind='bar')"
   ]
  },
  {
   "cell_type": "code",
   "execution_count": 17,
   "id": "eaccfd14",
   "metadata": {},
   "outputs": [],
   "source": [
    "cat_cols = combined.select_dtypes(include='object').columns"
   ]
  },
  {
   "cell_type": "code",
   "execution_count": 18,
   "id": "1cc15d29",
   "metadata": {},
   "outputs": [
    {
     "name": "stdout",
     "output_type": "stream",
     "text": [
      "marital\n",
      "default\n",
      "housing\n",
      "loan\n",
      "contact\n",
      "profession\n"
     ]
    }
   ],
   "source": [
    "for i in cat_cols:\n",
    "    if len(combined.loc[:,i].unique())<=3:\n",
    "        print(i)"
   ]
  },
  {
   "cell_type": "code",
   "execution_count": 19,
   "id": "36c54d55",
   "metadata": {},
   "outputs": [
    {
     "data": {
      "text/plain": [
       "array(['tertiary', 'secondary', 'primary', 'unknown'], dtype=object)"
      ]
     },
     "execution_count": 19,
     "metadata": {},
     "output_type": "execute_result"
    }
   ],
   "source": [
    "combined.education.unique()"
   ]
  },
  {
   "cell_type": "code",
   "execution_count": 20,
   "id": "16e8db75",
   "metadata": {},
   "outputs": [
    {
     "data": {
      "text/plain": [
       "blue-collar    861\n",
       "employed       628\n",
       "unemployed     126\n",
       "Name: profession, dtype: int64"
      ]
     },
     "execution_count": 20,
     "metadata": {},
     "output_type": "execute_result"
    }
   ],
   "source": [
    "combined.loc[combined.education=='unknown','profession'].value_counts()"
   ]
  },
  {
   "cell_type": "code",
   "execution_count": 21,
   "id": "2e831d23",
   "metadata": {},
   "outputs": [
    {
     "data": {
      "text/plain": [
       "education  profession \n",
       "primary    blue-collar    1742\n",
       "           employed       1177\n",
       "           unemployed      254\n",
       "secondary  blue-collar    8227\n",
       "           employed       5785\n",
       "           unemployed     1192\n",
       "tertiary   blue-collar    5335\n",
       "           employed       3851\n",
       "           unemployed      822\n",
       "unknown    blue-collar     861\n",
       "           employed        628\n",
       "           unemployed      126\n",
       "Name: profession, dtype: int64"
      ]
     },
     "execution_count": 21,
     "metadata": {},
     "output_type": "execute_result"
    }
   ],
   "source": [
    "combined.groupby('education')['profession'].value_counts()"
   ]
  },
  {
   "cell_type": "code",
   "execution_count": 22,
   "id": "a409aa5d",
   "metadata": {},
   "outputs": [
    {
     "data": {
      "text/plain": [
       "array(['unknown', 'success', 'failure', 'other'], dtype=object)"
      ]
     },
     "execution_count": 22,
     "metadata": {},
     "output_type": "execute_result"
    }
   ],
   "source": [
    "combined.poutcome.unique()"
   ]
  },
  {
   "cell_type": "code",
   "execution_count": 23,
   "id": "c19abd3e",
   "metadata": {},
   "outputs": [
    {
     "data": {
      "text/html": [
       "<div>\n",
       "<style scoped>\n",
       "    .dataframe tbody tr th:only-of-type {\n",
       "        vertical-align: middle;\n",
       "    }\n",
       "\n",
       "    .dataframe tbody tr th {\n",
       "        vertical-align: top;\n",
       "    }\n",
       "\n",
       "    .dataframe thead tr th {\n",
       "        text-align: left;\n",
       "    }\n",
       "</style>\n",
       "<table border=\"1\" class=\"dataframe\">\n",
       "  <thead>\n",
       "    <tr>\n",
       "      <th>poutcome</th>\n",
       "      <th colspan=\"2\" halign=\"left\">failure</th>\n",
       "      <th colspan=\"2\" halign=\"left\">other</th>\n",
       "      <th colspan=\"2\" halign=\"left\">success</th>\n",
       "      <th colspan=\"2\" halign=\"left\">unknown</th>\n",
       "    </tr>\n",
       "    <tr>\n",
       "      <th>y_bool</th>\n",
       "      <th>0.0</th>\n",
       "      <th>1.0</th>\n",
       "      <th>0.0</th>\n",
       "      <th>1.0</th>\n",
       "      <th>0.0</th>\n",
       "      <th>1.0</th>\n",
       "      <th>0.0</th>\n",
       "      <th>1.0</th>\n",
       "    </tr>\n",
       "  </thead>\n",
       "  <tbody>\n",
       "    <tr>\n",
       "      <th>y_bool</th>\n",
       "      <td>0.742012</td>\n",
       "      <td>0.257988</td>\n",
       "      <td>0.732836</td>\n",
       "      <td>0.267164</td>\n",
       "      <td>0.689922</td>\n",
       "      <td>0.310078</td>\n",
       "      <td>0.729178</td>\n",
       "      <td>0.270822</td>\n",
       "    </tr>\n",
       "  </tbody>\n",
       "</table>\n",
       "</div>"
      ],
      "text/plain": [
       "poutcome   failure               other             success            \\\n",
       "y_bool         0.0       1.0       0.0       1.0       0.0       1.0   \n",
       "y_bool    0.742012  0.257988  0.732836  0.267164  0.689922  0.310078   \n",
       "\n",
       "poutcome   unknown            \n",
       "y_bool         0.0       1.0  \n",
       "y_bool    0.729178  0.270822  "
      ]
     },
     "execution_count": 23,
     "metadata": {},
     "output_type": "execute_result"
    }
   ],
   "source": [
    "pd.DataFrame(combined.groupby('poutcome')['y_bool'].value_counts(normalize = True)).T"
   ]
  },
  {
   "cell_type": "markdown",
   "id": "42d5bc62",
   "metadata": {},
   "source": [
    "### Applying CHI-Square Test to verify the Important Cat Variables"
   ]
  },
  {
   "cell_type": "code",
   "execution_count": 24,
   "id": "60673387",
   "metadata": {},
   "outputs": [
    {
     "name": "stdout",
     "output_type": "stream",
     "text": [
      "['job']\n"
     ]
    }
   ],
   "source": [
    "signif = []\n",
    "\n",
    "for i in cat_cols:\n",
    "    tbl = pd.crosstab(combined.loc[:,i],combined.y_bool)\n",
    "    teststats,pvalue,df,exp_freq = stats.chi2_contingency(tbl)\n",
    "    if pvalue<0.05:\n",
    "        signif.append(i)\n",
    "print(signif)"
   ]
  },
  {
   "cell_type": "code",
   "execution_count": 25,
   "id": "7d6a8aad",
   "metadata": {},
   "outputs": [],
   "source": [
    "# List of Num vars....\n",
    "num_cols = combined.select_dtypes(include=np.number).columns"
   ]
  },
  {
   "cell_type": "code",
   "execution_count": 26,
   "id": "0573deca",
   "metadata": {},
   "outputs": [
    {
     "data": {
      "text/plain": [
       "8"
      ]
     },
     "execution_count": 26,
     "metadata": {},
     "output_type": "execute_result"
    }
   ],
   "source": [
    "len(num_cols)"
   ]
  },
  {
   "cell_type": "code",
   "execution_count": 27,
   "id": "9fa3db23",
   "metadata": {},
   "outputs": [
    {
     "data": {
      "image/png": "[encoded data removed]",
      "text/plain": [
       "<Figure size 1500x1000 with 8 Axes>"
      ]
     },
     "metadata": {},
     "output_type": "display_data"
    }
   ],
   "source": [
    "iterator = 1\n",
    "for i in num_cols:\n",
    "    plt.subplot(4,2,iterator)\n",
    "    sns.distplot(combined.loc[:,i])\n",
    "    plt.title(i)\n",
    "    iterator+=1\n",
    "    \n",
    "plt.tight_layout()\n",
    "plt.show()"
   ]
  },
  {
   "cell_type": "markdown",
   "id": "9c1fa115",
   "metadata": {},
   "source": [
    "- Log Transformation on Numerical Variables only...\n",
    "- "
   ]
  },
  {
   "cell_type": "code",
   "execution_count": 28,
   "id": "f5a0001d",
   "metadata": {},
   "outputs": [
    {
     "data": {
      "image/png": "[encoded data removed]",
      "text/plain": [
       "<Figure size 1500x1000 with 8 Axes>"
      ]
     },
     "metadata": {},
     "output_type": "display_data"
    }
   ],
   "source": [
    "iterator = 1\n",
    "for i in num_cols:\n",
    "    plt.subplot(4,2,iterator)\n",
    "    sns.boxplot(combined.loc[:,i])\n",
    "    plt.title(i)\n",
    "    iterator+=1\n",
    "    \n",
    "plt.tight_layout()\n",
    "plt.show()"
   ]
  },
  {
   "cell_type": "code",
   "execution_count": 29,
   "id": "ebe84a1b",
   "metadata": {},
   "outputs": [],
   "source": [
    "from sklearn.preprocessing import KBinsDiscretizer"
   ]
  },
  {
   "cell_type": "code",
   "execution_count": 30,
   "id": "20659503",
   "metadata": {},
   "outputs": [],
   "source": [
    "kbins = KBinsDiscretizer(n_bins=4,encode='ordinal',strategy='uniform')\n",
    "combined['age_bins']=kbins.fit_transform(combined[['age']])"
   ]
  },
  {
   "cell_type": "code",
   "execution_count": 31,
   "id": "7fc18700",
   "metadata": {},
   "outputs": [
    {
     "data": {
      "text/html": [
       "<div>\n",
       "<style scoped>\n",
       "    .dataframe tbody tr th:only-of-type {\n",
       "        vertical-align: middle;\n",
       "    }\n",
       "\n",
       "    .dataframe tbody tr th {\n",
       "        vertical-align: top;\n",
       "    }\n",
       "\n",
       "    .dataframe thead th {\n",
       "        text-align: right;\n",
       "    }\n",
       "</style>\n",
       "<table border=\"1\" class=\"dataframe\">\n",
       "  <thead>\n",
       "    <tr style=\"text-align: right;\">\n",
       "      <th></th>\n",
       "      <th>age</th>\n",
       "      <th>job</th>\n",
       "      <th>marital</th>\n",
       "      <th>education</th>\n",
       "      <th>default</th>\n",
       "      <th>balance</th>\n",
       "      <th>housing</th>\n",
       "      <th>loan</th>\n",
       "      <th>contact</th>\n",
       "      <th>day</th>\n",
       "      <th>month</th>\n",
       "      <th>duration</th>\n",
       "      <th>campaign</th>\n",
       "      <th>pdays</th>\n",
       "      <th>previous</th>\n",
       "      <th>poutcome</th>\n",
       "      <th>y_bool</th>\n",
       "      <th>profession</th>\n",
       "      <th>age_bins</th>\n",
       "    </tr>\n",
       "  </thead>\n",
       "  <tbody>\n",
       "    <tr>\n",
       "      <th>0</th>\n",
       "      <td>51</td>\n",
       "      <td>admin.</td>\n",
       "      <td>married</td>\n",
       "      <td>tertiary</td>\n",
       "      <td>no</td>\n",
       "      <td>148</td>\n",
       "      <td>no</td>\n",
       "      <td>no</td>\n",
       "      <td>cellular</td>\n",
       "      <td>15</td>\n",
       "      <td>apr</td>\n",
       "      <td>263</td>\n",
       "      <td>2</td>\n",
       "      <td>-1</td>\n",
       "      <td>0</td>\n",
       "      <td>unknown</td>\n",
       "      <td>0.0</td>\n",
       "      <td>employed</td>\n",
       "      <td>1.0</td>\n",
       "    </tr>\n",
       "    <tr>\n",
       "      <th>1</th>\n",
       "      <td>55</td>\n",
       "      <td>blue-collar</td>\n",
       "      <td>married</td>\n",
       "      <td>secondary</td>\n",
       "      <td>no</td>\n",
       "      <td>7160</td>\n",
       "      <td>yes</td>\n",
       "      <td>no</td>\n",
       "      <td>unknown</td>\n",
       "      <td>4</td>\n",
       "      <td>may</td>\n",
       "      <td>315</td>\n",
       "      <td>1</td>\n",
       "      <td>-1</td>\n",
       "      <td>0</td>\n",
       "      <td>unknown</td>\n",
       "      <td>0.0</td>\n",
       "      <td>blue-collar</td>\n",
       "      <td>2.0</td>\n",
       "    </tr>\n",
       "    <tr>\n",
       "      <th>2</th>\n",
       "      <td>65</td>\n",
       "      <td>blue-collar</td>\n",
       "      <td>divorced</td>\n",
       "      <td>tertiary</td>\n",
       "      <td>no</td>\n",
       "      <td>2197</td>\n",
       "      <td>yes</td>\n",
       "      <td>no</td>\n",
       "      <td>cellular</td>\n",
       "      <td>12</td>\n",
       "      <td>may</td>\n",
       "      <td>102</td>\n",
       "      <td>2</td>\n",
       "      <td>-1</td>\n",
       "      <td>0</td>\n",
       "      <td>unknown</td>\n",
       "      <td>0.0</td>\n",
       "      <td>blue-collar</td>\n",
       "      <td>2.0</td>\n",
       "    </tr>\n",
       "    <tr>\n",
       "      <th>3</th>\n",
       "      <td>25</td>\n",
       "      <td>admin.</td>\n",
       "      <td>married</td>\n",
       "      <td>secondary</td>\n",
       "      <td>no</td>\n",
       "      <td>6658</td>\n",
       "      <td>yes</td>\n",
       "      <td>no</td>\n",
       "      <td>cellular</td>\n",
       "      <td>16</td>\n",
       "      <td>feb</td>\n",
       "      <td>197</td>\n",
       "      <td>1</td>\n",
       "      <td>-1</td>\n",
       "      <td>0</td>\n",
       "      <td>unknown</td>\n",
       "      <td>1.0</td>\n",
       "      <td>employed</td>\n",
       "      <td>0.0</td>\n",
       "    </tr>\n",
       "    <tr>\n",
       "      <th>4</th>\n",
       "      <td>36</td>\n",
       "      <td>services</td>\n",
       "      <td>married</td>\n",
       "      <td>secondary</td>\n",
       "      <td>no</td>\n",
       "      <td>1761</td>\n",
       "      <td>yes</td>\n",
       "      <td>no</td>\n",
       "      <td>cellular</td>\n",
       "      <td>19</td>\n",
       "      <td>sep</td>\n",
       "      <td>177</td>\n",
       "      <td>1</td>\n",
       "      <td>-1</td>\n",
       "      <td>0</td>\n",
       "      <td>success</td>\n",
       "      <td>0.0</td>\n",
       "      <td>blue-collar</td>\n",
       "      <td>1.0</td>\n",
       "    </tr>\n",
       "  </tbody>\n",
       "</table>\n",
       "</div>"
      ],
      "text/plain": [
       "   age          job   marital  education default  balance housing loan  \\\n",
       "0   51       admin.   married   tertiary      no      148      no   no   \n",
       "1   55  blue-collar   married  secondary      no     7160     yes   no   \n",
       "2   65  blue-collar  divorced   tertiary      no     2197     yes   no   \n",
       "3   25       admin.   married  secondary      no     6658     yes   no   \n",
       "4   36     services   married  secondary      no     1761     yes   no   \n",
       "\n",
       "    contact  day month  duration  campaign  pdays  previous poutcome  y_bool  \\\n",
       "0  cellular   15   apr       263         2     -1         0  unknown     0.0   \n",
       "1   unknown    4   may       315         1     -1         0  unknown     0.0   \n",
       "2  cellular   12   may       102         2     -1         0  unknown     0.0   \n",
       "3  cellular   16   feb       197         1     -1         0  unknown     1.0   \n",
       "4  cellular   19   sep       177         1     -1         0  success     0.0   \n",
       "\n",
       "    profession  age_bins  \n",
       "0     employed       1.0  \n",
       "1  blue-collar       2.0  \n",
       "2  blue-collar       2.0  \n",
       "3     employed       0.0  \n",
       "4  blue-collar       1.0  "
      ]
     },
     "execution_count": 31,
     "metadata": {},
     "output_type": "execute_result"
    }
   ],
   "source": [
    "combined.head()"
   ]
  },
  {
   "cell_type": "code",
   "execution_count": 32,
   "id": "aad9c90f",
   "metadata": {},
   "outputs": [
    {
     "name": "stdout",
     "output_type": "stream",
     "text": [
      "7.913095873130406e-10\n"
     ]
    }
   ],
   "source": [
    "tbl = pd.crosstab(combined.age_bins,combined.y_bool)\n",
    "teststats,pvalue,df,exp_freq = stats.chi2_contingency(tbl)\n",
    "print(pvalue)"
   ]
  },
  {
   "cell_type": "code",
   "execution_count": 33,
   "id": "eadb840b",
   "metadata": {},
   "outputs": [
    {
     "data": {
      "text/plain": [
       "array([array([19., 36., 53., 70., 87.])], dtype=object)"
      ]
     },
     "execution_count": 33,
     "metadata": {},
     "output_type": "execute_result"
    }
   ],
   "source": [
    "kbins.bin_edges_"
   ]
  },
  {
   "cell_type": "code",
   "execution_count": 34,
   "id": "8e463d3f",
   "metadata": {},
   "outputs": [],
   "source": [
    "def bins(x):\n",
    "    if (x<=19):\n",
    "        return('Teens')\n",
    "    elif (x<=36):\n",
    "        return('Adult')\n",
    "    elif (x<=53):\n",
    "        return('Mature')\n",
    "    else:\n",
    "        return('Senior')"
   ]
  },
  {
   "cell_type": "code",
   "execution_count": 35,
   "id": "fae0d2f5",
   "metadata": {},
   "outputs": [],
   "source": [
    "#Apply\n",
    "combined['age_cat'] = combined.age.apply(bins)"
   ]
  },
  {
   "cell_type": "code",
   "execution_count": 36,
   "id": "b2e6583d",
   "metadata": {},
   "outputs": [
    {
     "data": {
      "text/plain": [
       "3.1639967525897536e-11"
      ]
     },
     "execution_count": 36,
     "metadata": {},
     "output_type": "execute_result"
    }
   ],
   "source": [
    "tbl = pd.crosstab(combined.age_cat,combined.y_bool)\n",
    "stats.chi2_contingency(tbl)[1]"
   ]
  },
  {
   "cell_type": "code",
   "execution_count": 37,
   "id": "4951ba15",
   "metadata": {},
   "outputs": [
    {
     "data": {
      "text/plain": [
       "count    30000.000000\n",
       "mean      1608.013900\n",
       "std       2989.866596\n",
       "min      -2477.000000\n",
       "25%        303.000000\n",
       "50%        634.000000\n",
       "75%       1880.000000\n",
       "max      71188.000000\n",
       "Name: balance, dtype: float64"
      ]
     },
     "execution_count": 37,
     "metadata": {},
     "output_type": "execute_result"
    }
   ],
   "source": [
    "combined.balance.describe()"
   ]
  },
  {
   "cell_type": "code",
   "execution_count": 38,
   "id": "189352e7",
   "metadata": {},
   "outputs": [],
   "source": [
    "#Convert -2477 to 0\n",
    "def balanced(x):\n",
    "    if x<0:\n",
    "        return(0)\n",
    "    else:\n",
    "        return(x)"
   ]
  },
  {
   "cell_type": "code",
   "execution_count": 39,
   "id": "5be2c719",
   "metadata": {},
   "outputs": [
    {
     "data": {
      "text/plain": [
       "count    30000.000000\n",
       "mean      1626.014067\n",
       "std       2978.325577\n",
       "min          0.000000\n",
       "25%        303.000000\n",
       "50%        634.000000\n",
       "75%       1880.000000\n",
       "max      71188.000000\n",
       "Name: balance, dtype: float64"
      ]
     },
     "execution_count": 39,
     "metadata": {},
     "output_type": "execute_result"
    }
   ],
   "source": [
    "combined['balance']=combined.balance.apply(balanced)\n",
    "combined.balance.describe()"
   ]
  },
  {
   "cell_type": "code",
   "execution_count": 40,
   "id": "4faba70a",
   "metadata": {},
   "outputs": [],
   "source": [
    "# Make n-bins = 5\n",
    "\n",
    "kbins = KBinsDiscretizer(n_bins=5,encode='ordinal',strategy='quantile')\n",
    "\n",
    "combined['balance_bins']=kbins.fit_transform(combined[['balance']])"
   ]
  },
  {
   "cell_type": "code",
   "execution_count": 41,
   "id": "b0822c53",
   "metadata": {},
   "outputs": [
    {
     "name": "stdout",
     "output_type": "stream",
     "text": [
      "0.0008745599667551404\n"
     ]
    }
   ],
   "source": [
    "tbl = pd.crosstab(combined.balance_bins,combined.y_bool)\n",
    "teststats,pvalue,df,exp_freq = stats.chi2_contingency(tbl)\n",
    "print(pvalue)"
   ]
  },
  {
   "cell_type": "code",
   "execution_count": 42,
   "id": "8f4fa5be",
   "metadata": {},
   "outputs": [
    {
     "data": {
      "text/plain": [
       "array([array([    0. ,   236. ,   492. ,  1078.4,  2199. , 71188. ])],\n",
       "      dtype=object)"
      ]
     },
     "execution_count": 42,
     "metadata": {},
     "output_type": "execute_result"
    }
   ],
   "source": [
    "kbins.bin_edges_"
   ]
  },
  {
   "cell_type": "code",
   "execution_count": 43,
   "id": "f1cdab0b",
   "metadata": {},
   "outputs": [
    {
     "data": {
      "text/html": [
       "<div>\n",
       "<style scoped>\n",
       "    .dataframe tbody tr th:only-of-type {\n",
       "        vertical-align: middle;\n",
       "    }\n",
       "\n",
       "    .dataframe tbody tr th {\n",
       "        vertical-align: top;\n",
       "    }\n",
       "\n",
       "    .dataframe thead th {\n",
       "        text-align: right;\n",
       "    }\n",
       "</style>\n",
       "<table border=\"1\" class=\"dataframe\">\n",
       "  <thead>\n",
       "    <tr style=\"text-align: right;\">\n",
       "      <th></th>\n",
       "      <th>age</th>\n",
       "      <th>job</th>\n",
       "      <th>marital</th>\n",
       "      <th>education</th>\n",
       "      <th>default</th>\n",
       "      <th>balance</th>\n",
       "      <th>housing</th>\n",
       "      <th>loan</th>\n",
       "      <th>contact</th>\n",
       "      <th>day</th>\n",
       "      <th>month</th>\n",
       "      <th>duration</th>\n",
       "      <th>campaign</th>\n",
       "      <th>pdays</th>\n",
       "      <th>previous</th>\n",
       "      <th>poutcome</th>\n",
       "      <th>y_bool</th>\n",
       "      <th>profession</th>\n",
       "      <th>age_bins</th>\n",
       "      <th>age_cat</th>\n",
       "      <th>balance_bins</th>\n",
       "    </tr>\n",
       "  </thead>\n",
       "  <tbody>\n",
       "    <tr>\n",
       "      <th>0</th>\n",
       "      <td>51</td>\n",
       "      <td>admin.</td>\n",
       "      <td>married</td>\n",
       "      <td>tertiary</td>\n",
       "      <td>no</td>\n",
       "      <td>148</td>\n",
       "      <td>no</td>\n",
       "      <td>no</td>\n",
       "      <td>cellular</td>\n",
       "      <td>15</td>\n",
       "      <td>apr</td>\n",
       "      <td>263</td>\n",
       "      <td>2</td>\n",
       "      <td>-1</td>\n",
       "      <td>0</td>\n",
       "      <td>unknown</td>\n",
       "      <td>0.0</td>\n",
       "      <td>employed</td>\n",
       "      <td>1.0</td>\n",
       "      <td>Mature</td>\n",
       "      <td>0.0</td>\n",
       "    </tr>\n",
       "    <tr>\n",
       "      <th>1</th>\n",
       "      <td>55</td>\n",
       "      <td>blue-collar</td>\n",
       "      <td>married</td>\n",
       "      <td>secondary</td>\n",
       "      <td>no</td>\n",
       "      <td>7160</td>\n",
       "      <td>yes</td>\n",
       "      <td>no</td>\n",
       "      <td>unknown</td>\n",
       "      <td>4</td>\n",
       "      <td>may</td>\n",
       "      <td>315</td>\n",
       "      <td>1</td>\n",
       "      <td>-1</td>\n",
       "      <td>0</td>\n",
       "      <td>unknown</td>\n",
       "      <td>0.0</td>\n",
       "      <td>blue-collar</td>\n",
       "      <td>2.0</td>\n",
       "      <td>Senior</td>\n",
       "      <td>4.0</td>\n",
       "    </tr>\n",
       "    <tr>\n",
       "      <th>2</th>\n",
       "      <td>65</td>\n",
       "      <td>blue-collar</td>\n",
       "      <td>divorced</td>\n",
       "      <td>tertiary</td>\n",
       "      <td>no</td>\n",
       "      <td>2197</td>\n",
       "      <td>yes</td>\n",
       "      <td>no</td>\n",
       "      <td>cellular</td>\n",
       "      <td>12</td>\n",
       "      <td>may</td>\n",
       "      <td>102</td>\n",
       "      <td>2</td>\n",
       "      <td>-1</td>\n",
       "      <td>0</td>\n",
       "      <td>unknown</td>\n",
       "      <td>0.0</td>\n",
       "      <td>blue-collar</td>\n",
       "      <td>2.0</td>\n",
       "      <td>Senior</td>\n",
       "      <td>3.0</td>\n",
       "    </tr>\n",
       "    <tr>\n",
       "      <th>3</th>\n",
       "      <td>25</td>\n",
       "      <td>admin.</td>\n",
       "      <td>married</td>\n",
       "      <td>secondary</td>\n",
       "      <td>no</td>\n",
       "      <td>6658</td>\n",
       "      <td>yes</td>\n",
       "      <td>no</td>\n",
       "      <td>cellular</td>\n",
       "      <td>16</td>\n",
       "      <td>feb</td>\n",
       "      <td>197</td>\n",
       "      <td>1</td>\n",
       "      <td>-1</td>\n",
       "      <td>0</td>\n",
       "      <td>unknown</td>\n",
       "      <td>1.0</td>\n",
       "      <td>employed</td>\n",
       "      <td>0.0</td>\n",
       "      <td>Adult</td>\n",
       "      <td>4.0</td>\n",
       "    </tr>\n",
       "    <tr>\n",
       "      <th>4</th>\n",
       "      <td>36</td>\n",
       "      <td>services</td>\n",
       "      <td>married</td>\n",
       "      <td>secondary</td>\n",
       "      <td>no</td>\n",
       "      <td>1761</td>\n",
       "      <td>yes</td>\n",
       "      <td>no</td>\n",
       "      <td>cellular</td>\n",
       "      <td>19</td>\n",
       "      <td>sep</td>\n",
       "      <td>177</td>\n",
       "      <td>1</td>\n",
       "      <td>-1</td>\n",
       "      <td>0</td>\n",
       "      <td>success</td>\n",
       "      <td>0.0</td>\n",
       "      <td>blue-collar</td>\n",
       "      <td>1.0</td>\n",
       "      <td>Adult</td>\n",
       "      <td>3.0</td>\n",
       "    </tr>\n",
       "  </tbody>\n",
       "</table>\n",
       "</div>"
      ],
      "text/plain": [
       "   age          job   marital  education default  balance housing loan  \\\n",
       "0   51       admin.   married   tertiary      no      148      no   no   \n",
       "1   55  blue-collar   married  secondary      no     7160     yes   no   \n",
       "2   65  blue-collar  divorced   tertiary      no     2197     yes   no   \n",
       "3   25       admin.   married  secondary      no     6658     yes   no   \n",
       "4   36     services   married  secondary      no     1761     yes   no   \n",
       "\n",
       "    contact  day month  duration  campaign  pdays  previous poutcome  y_bool  \\\n",
       "0  cellular   15   apr       263         2     -1         0  unknown     0.0   \n",
       "1   unknown    4   may       315         1     -1         0  unknown     0.0   \n",
       "2  cellular   12   may       102         2     -1         0  unknown     0.0   \n",
       "3  cellular   16   feb       197         1     -1         0  unknown     1.0   \n",
       "4  cellular   19   sep       177         1     -1         0  success     0.0   \n",
       "\n",
       "    profession  age_bins age_cat  balance_bins  \n",
       "0     employed       1.0  Mature           0.0  \n",
       "1  blue-collar       2.0  Senior           4.0  \n",
       "2  blue-collar       2.0  Senior           3.0  \n",
       "3     employed       0.0   Adult           4.0  \n",
       "4  blue-collar       1.0   Adult           3.0  "
      ]
     },
     "execution_count": 43,
     "metadata": {},
     "output_type": "execute_result"
    }
   ],
   "source": [
    "combined.head()"
   ]
  },
  {
   "cell_type": "code",
   "execution_count": 44,
   "id": "cfd756cb",
   "metadata": {},
   "outputs": [
    {
     "data": {
      "text/plain": [
       "count    30000.000000\n",
       "mean         4.379814\n",
       "std          4.764683\n",
       "min          0.066667\n",
       "25%          1.566667\n",
       "50%          3.050000\n",
       "75%          5.300000\n",
       "max         45.050000\n",
       "Name: duration, dtype: float64"
      ]
     },
     "execution_count": 44,
     "metadata": {},
     "output_type": "execute_result"
    }
   ],
   "source": [
    "#Conver the Duration in Mins....\n",
    "combined['duration']=combined.duration/60\n",
    "combined.duration.describe()"
   ]
  },
  {
   "cell_type": "markdown",
   "id": "23bf38d3",
   "metadata": {},
   "source": [
    "- If the call Duration is more than 5min, y_bool count will be high"
   ]
  },
  {
   "cell_type": "code",
   "execution_count": 45,
   "id": "9a9de515",
   "metadata": {},
   "outputs": [
    {
     "data": {
      "text/plain": [
       "0.0    0.727913\n",
       "1.0    0.272087\n",
       "Name: y_bool, dtype: float64"
      ]
     },
     "execution_count": 45,
     "metadata": {},
     "output_type": "execute_result"
    }
   ],
   "source": [
    "combined.loc[combined.duration<=5,'y_bool'].value_counts(normalize=True)"
   ]
  },
  {
   "cell_type": "code",
   "execution_count": 46,
   "id": "5132cb22",
   "metadata": {},
   "outputs": [],
   "source": [
    "#Drop the variables\n",
    "newdata = combined.drop(['contact','job'],axis=1)\n"
   ]
  },
  {
   "cell_type": "code",
   "execution_count": 47,
   "id": "3572189f",
   "metadata": {},
   "outputs": [
    {
     "data": {
      "text/plain": [
       "(30000, 19)"
      ]
     },
     "execution_count": 47,
     "metadata": {},
     "output_type": "execute_result"
    }
   ],
   "source": [
    "newdata.shape"
   ]
  },
  {
   "cell_type": "code",
   "execution_count": 48,
   "id": "4b6cb271",
   "metadata": {},
   "outputs": [
    {
     "data": {
      "text/plain": [
       "<AxesSubplot:xlabel='y_bool,day'>"
      ]
     },
     "execution_count": 48,
     "metadata": {},
     "output_type": "execute_result"
    },
    {
     "data": {
      "image/png": "[encoded data removed]",
      "text/plain": [
       "<Figure size 1500x1000 with 1 Axes>"
      ]
     },
     "metadata": {},
     "output_type": "display_data"
    }
   ],
   "source": [
    "#Day Vs Target\n",
    "newdata.groupby('y_bool')['day'].value_counts().plot(kind='bar')"
   ]
  },
  {
   "cell_type": "code",
   "execution_count": 49,
   "id": "a0f1e0af",
   "metadata": {},
   "outputs": [
    {
     "data": {
      "text/plain": [
       "<AxesSubplot:xlabel='y_bool,month'>"
      ]
     },
     "execution_count": 49,
     "metadata": {},
     "output_type": "execute_result"
    },
    {
     "data": {
      "image/png": "[encoded data removed]",
      "text/plain": [
       "<Figure size 1500x1000 with 1 Axes>"
      ]
     },
     "metadata": {},
     "output_type": "display_data"
    }
   ],
   "source": [
    "newdata.groupby('y_bool')['month'].value_counts().plot(kind='bar')"
   ]
  },
  {
   "cell_type": "code",
   "execution_count": 50,
   "id": "b0c744da",
   "metadata": {},
   "outputs": [],
   "source": [
    "def months(x):\n",
    "    if x in ['sep','oct','dec']:\n",
    "        return('festive')\n",
    "    elif x in ['apr','may','jun','jul','aug','nov']:\n",
    "        return('deposits')\n",
    "    else:\n",
    "        return('no_deposits')"
   ]
  },
  {
   "cell_type": "code",
   "execution_count": 51,
   "id": "c5892b6b",
   "metadata": {},
   "outputs": [],
   "source": [
    "newdata['month_cat'] = newdata.month.apply(months)"
   ]
  },
  {
   "cell_type": "code",
   "execution_count": 52,
   "id": "14058221",
   "metadata": {},
   "outputs": [
    {
     "data": {
      "text/html": [
       "<div>\n",
       "<style scoped>\n",
       "    .dataframe tbody tr th:only-of-type {\n",
       "        vertical-align: middle;\n",
       "    }\n",
       "\n",
       "    .dataframe tbody tr th {\n",
       "        vertical-align: top;\n",
       "    }\n",
       "\n",
       "    .dataframe thead th {\n",
       "        text-align: right;\n",
       "    }\n",
       "</style>\n",
       "<table border=\"1\" class=\"dataframe\">\n",
       "  <thead>\n",
       "    <tr style=\"text-align: right;\">\n",
       "      <th></th>\n",
       "      <th>age</th>\n",
       "      <th>marital</th>\n",
       "      <th>education</th>\n",
       "      <th>default</th>\n",
       "      <th>balance</th>\n",
       "      <th>housing</th>\n",
       "      <th>loan</th>\n",
       "      <th>day</th>\n",
       "      <th>month</th>\n",
       "      <th>duration</th>\n",
       "      <th>campaign</th>\n",
       "      <th>pdays</th>\n",
       "      <th>previous</th>\n",
       "      <th>poutcome</th>\n",
       "      <th>y_bool</th>\n",
       "      <th>profession</th>\n",
       "      <th>age_bins</th>\n",
       "      <th>age_cat</th>\n",
       "      <th>balance_bins</th>\n",
       "      <th>month_cat</th>\n",
       "    </tr>\n",
       "  </thead>\n",
       "  <tbody>\n",
       "    <tr>\n",
       "      <th>0</th>\n",
       "      <td>51</td>\n",
       "      <td>married</td>\n",
       "      <td>tertiary</td>\n",
       "      <td>no</td>\n",
       "      <td>148</td>\n",
       "      <td>no</td>\n",
       "      <td>no</td>\n",
       "      <td>15</td>\n",
       "      <td>apr</td>\n",
       "      <td>4.383333</td>\n",
       "      <td>2</td>\n",
       "      <td>-1</td>\n",
       "      <td>0</td>\n",
       "      <td>unknown</td>\n",
       "      <td>0.0</td>\n",
       "      <td>employed</td>\n",
       "      <td>1.0</td>\n",
       "      <td>Mature</td>\n",
       "      <td>0.0</td>\n",
       "      <td>deposits</td>\n",
       "    </tr>\n",
       "    <tr>\n",
       "      <th>1</th>\n",
       "      <td>55</td>\n",
       "      <td>married</td>\n",
       "      <td>secondary</td>\n",
       "      <td>no</td>\n",
       "      <td>7160</td>\n",
       "      <td>yes</td>\n",
       "      <td>no</td>\n",
       "      <td>4</td>\n",
       "      <td>may</td>\n",
       "      <td>5.250000</td>\n",
       "      <td>1</td>\n",
       "      <td>-1</td>\n",
       "      <td>0</td>\n",
       "      <td>unknown</td>\n",
       "      <td>0.0</td>\n",
       "      <td>blue-collar</td>\n",
       "      <td>2.0</td>\n",
       "      <td>Senior</td>\n",
       "      <td>4.0</td>\n",
       "      <td>deposits</td>\n",
       "    </tr>\n",
       "    <tr>\n",
       "      <th>2</th>\n",
       "      <td>65</td>\n",
       "      <td>divorced</td>\n",
       "      <td>tertiary</td>\n",
       "      <td>no</td>\n",
       "      <td>2197</td>\n",
       "      <td>yes</td>\n",
       "      <td>no</td>\n",
       "      <td>12</td>\n",
       "      <td>may</td>\n",
       "      <td>1.700000</td>\n",
       "      <td>2</td>\n",
       "      <td>-1</td>\n",
       "      <td>0</td>\n",
       "      <td>unknown</td>\n",
       "      <td>0.0</td>\n",
       "      <td>blue-collar</td>\n",
       "      <td>2.0</td>\n",
       "      <td>Senior</td>\n",
       "      <td>3.0</td>\n",
       "      <td>deposits</td>\n",
       "    </tr>\n",
       "    <tr>\n",
       "      <th>3</th>\n",
       "      <td>25</td>\n",
       "      <td>married</td>\n",
       "      <td>secondary</td>\n",
       "      <td>no</td>\n",
       "      <td>6658</td>\n",
       "      <td>yes</td>\n",
       "      <td>no</td>\n",
       "      <td>16</td>\n",
       "      <td>feb</td>\n",
       "      <td>3.283333</td>\n",
       "      <td>1</td>\n",
       "      <td>-1</td>\n",
       "      <td>0</td>\n",
       "      <td>unknown</td>\n",
       "      <td>1.0</td>\n",
       "      <td>employed</td>\n",
       "      <td>0.0</td>\n",
       "      <td>Adult</td>\n",
       "      <td>4.0</td>\n",
       "      <td>no_deposits</td>\n",
       "    </tr>\n",
       "    <tr>\n",
       "      <th>4</th>\n",
       "      <td>36</td>\n",
       "      <td>married</td>\n",
       "      <td>secondary</td>\n",
       "      <td>no</td>\n",
       "      <td>1761</td>\n",
       "      <td>yes</td>\n",
       "      <td>no</td>\n",
       "      <td>19</td>\n",
       "      <td>sep</td>\n",
       "      <td>2.950000</td>\n",
       "      <td>1</td>\n",
       "      <td>-1</td>\n",
       "      <td>0</td>\n",
       "      <td>success</td>\n",
       "      <td>0.0</td>\n",
       "      <td>blue-collar</td>\n",
       "      <td>1.0</td>\n",
       "      <td>Adult</td>\n",
       "      <td>3.0</td>\n",
       "      <td>festive</td>\n",
       "    </tr>\n",
       "  </tbody>\n",
       "</table>\n",
       "</div>"
      ],
      "text/plain": [
       "   age   marital  education default  balance housing loan  day month  \\\n",
       "0   51   married   tertiary      no      148      no   no   15   apr   \n",
       "1   55   married  secondary      no     7160     yes   no    4   may   \n",
       "2   65  divorced   tertiary      no     2197     yes   no   12   may   \n",
       "3   25   married  secondary      no     6658     yes   no   16   feb   \n",
       "4   36   married  secondary      no     1761     yes   no   19   sep   \n",
       "\n",
       "   duration  campaign  pdays  previous poutcome  y_bool   profession  \\\n",
       "0  4.383333         2     -1         0  unknown     0.0     employed   \n",
       "1  5.250000         1     -1         0  unknown     0.0  blue-collar   \n",
       "2  1.700000         2     -1         0  unknown     0.0  blue-collar   \n",
       "3  3.283333         1     -1         0  unknown     1.0     employed   \n",
       "4  2.950000         1     -1         0  success     0.0  blue-collar   \n",
       "\n",
       "   age_bins age_cat  balance_bins    month_cat  \n",
       "0       1.0  Mature           0.0     deposits  \n",
       "1       2.0  Senior           4.0     deposits  \n",
       "2       2.0  Senior           3.0     deposits  \n",
       "3       0.0   Adult           4.0  no_deposits  \n",
       "4       1.0   Adult           3.0      festive  "
      ]
     },
     "execution_count": 52,
     "metadata": {},
     "output_type": "execute_result"
    }
   ],
   "source": [
    "newdata.head()"
   ]
  },
  {
   "cell_type": "code",
   "execution_count": 53,
   "id": "1e29ffa0",
   "metadata": {},
   "outputs": [
    {
     "data": {
      "text/plain": [
       "array(['deposits', 'no_deposits', 'festive'], dtype=object)"
      ]
     },
     "execution_count": 53,
     "metadata": {},
     "output_type": "execute_result"
    }
   ],
   "source": [
    "newdata['month_cat'].unique()"
   ]
  },
  {
   "cell_type": "code",
   "execution_count": 54,
   "id": "81846f93",
   "metadata": {},
   "outputs": [
    {
     "name": "stdout",
     "output_type": "stream",
     "text": [
      "0.10578918638603158\n"
     ]
    }
   ],
   "source": [
    "tbl = pd.crosstab(newdata.month_cat,newdata.y_bool)\n",
    "teststats,pvalue,df,exp_freq = stats.chi2_contingency(tbl)\n",
    "print(pvalue)"
   ]
  },
  {
   "cell_type": "code",
   "execution_count": 55,
   "id": "188e16c3",
   "metadata": {},
   "outputs": [],
   "source": [
    "def months(x):\n",
    "    if x in ['nov','oct','dec']:\n",
    "        return('q4')\n",
    "    elif x in ['apr','may','jun']:\n",
    "        return('q2')\n",
    "    elif x in ['jan','feb','mar']:\n",
    "        return('q1')\n",
    "    else:\n",
    "        return('q3')"
   ]
  },
  {
   "cell_type": "code",
   "execution_count": 56,
   "id": "604e911c",
   "metadata": {},
   "outputs": [],
   "source": [
    "newdata['month_cat'] = newdata.month.apply(months)"
   ]
  },
  {
   "cell_type": "code",
   "execution_count": 57,
   "id": "7df01c72",
   "metadata": {},
   "outputs": [
    {
     "name": "stdout",
     "output_type": "stream",
     "text": [
      "0.04597093223395938\n"
     ]
    }
   ],
   "source": [
    "tbl = pd.crosstab(newdata.month_cat,newdata.y_bool)\n",
    "teststats,pvalue,df,exp_freq = stats.chi2_contingency(tbl)\n",
    "print(pvalue)"
   ]
  },
  {
   "cell_type": "code",
   "execution_count": 58,
   "id": "c61fba89",
   "metadata": {},
   "outputs": [
    {
     "data": {
      "text/html": [
       "<div>\n",
       "<style scoped>\n",
       "    .dataframe tbody tr th:only-of-type {\n",
       "        vertical-align: middle;\n",
       "    }\n",
       "\n",
       "    .dataframe tbody tr th {\n",
       "        vertical-align: top;\n",
       "    }\n",
       "\n",
       "    .dataframe thead th {\n",
       "        text-align: right;\n",
       "    }\n",
       "</style>\n",
       "<table border=\"1\" class=\"dataframe\">\n",
       "  <thead>\n",
       "    <tr style=\"text-align: right;\">\n",
       "      <th></th>\n",
       "      <th>age</th>\n",
       "      <th>marital</th>\n",
       "      <th>education</th>\n",
       "      <th>default</th>\n",
       "      <th>balance</th>\n",
       "      <th>housing</th>\n",
       "      <th>loan</th>\n",
       "      <th>day</th>\n",
       "      <th>month</th>\n",
       "      <th>duration</th>\n",
       "      <th>campaign</th>\n",
       "      <th>pdays</th>\n",
       "      <th>previous</th>\n",
       "      <th>poutcome</th>\n",
       "      <th>y_bool</th>\n",
       "      <th>profession</th>\n",
       "      <th>age_bins</th>\n",
       "      <th>age_cat</th>\n",
       "      <th>balance_bins</th>\n",
       "      <th>month_cat</th>\n",
       "    </tr>\n",
       "  </thead>\n",
       "  <tbody>\n",
       "    <tr>\n",
       "      <th>0</th>\n",
       "      <td>51</td>\n",
       "      <td>married</td>\n",
       "      <td>tertiary</td>\n",
       "      <td>no</td>\n",
       "      <td>148</td>\n",
       "      <td>no</td>\n",
       "      <td>no</td>\n",
       "      <td>15</td>\n",
       "      <td>apr</td>\n",
       "      <td>4.383333</td>\n",
       "      <td>2</td>\n",
       "      <td>-1</td>\n",
       "      <td>0</td>\n",
       "      <td>unknown</td>\n",
       "      <td>0.0</td>\n",
       "      <td>employed</td>\n",
       "      <td>1.0</td>\n",
       "      <td>Mature</td>\n",
       "      <td>0.0</td>\n",
       "      <td>q2</td>\n",
       "    </tr>\n",
       "    <tr>\n",
       "      <th>1</th>\n",
       "      <td>55</td>\n",
       "      <td>married</td>\n",
       "      <td>secondary</td>\n",
       "      <td>no</td>\n",
       "      <td>7160</td>\n",
       "      <td>yes</td>\n",
       "      <td>no</td>\n",
       "      <td>4</td>\n",
       "      <td>may</td>\n",
       "      <td>5.250000</td>\n",
       "      <td>1</td>\n",
       "      <td>-1</td>\n",
       "      <td>0</td>\n",
       "      <td>unknown</td>\n",
       "      <td>0.0</td>\n",
       "      <td>blue-collar</td>\n",
       "      <td>2.0</td>\n",
       "      <td>Senior</td>\n",
       "      <td>4.0</td>\n",
       "      <td>q2</td>\n",
       "    </tr>\n",
       "    <tr>\n",
       "      <th>2</th>\n",
       "      <td>65</td>\n",
       "      <td>divorced</td>\n",
       "      <td>tertiary</td>\n",
       "      <td>no</td>\n",
       "      <td>2197</td>\n",
       "      <td>yes</td>\n",
       "      <td>no</td>\n",
       "      <td>12</td>\n",
       "      <td>may</td>\n",
       "      <td>1.700000</td>\n",
       "      <td>2</td>\n",
       "      <td>-1</td>\n",
       "      <td>0</td>\n",
       "      <td>unknown</td>\n",
       "      <td>0.0</td>\n",
       "      <td>blue-collar</td>\n",
       "      <td>2.0</td>\n",
       "      <td>Senior</td>\n",
       "      <td>3.0</td>\n",
       "      <td>q2</td>\n",
       "    </tr>\n",
       "    <tr>\n",
       "      <th>3</th>\n",
       "      <td>25</td>\n",
       "      <td>married</td>\n",
       "      <td>secondary</td>\n",
       "      <td>no</td>\n",
       "      <td>6658</td>\n",
       "      <td>yes</td>\n",
       "      <td>no</td>\n",
       "      <td>16</td>\n",
       "      <td>feb</td>\n",
       "      <td>3.283333</td>\n",
       "      <td>1</td>\n",
       "      <td>-1</td>\n",
       "      <td>0</td>\n",
       "      <td>unknown</td>\n",
       "      <td>1.0</td>\n",
       "      <td>employed</td>\n",
       "      <td>0.0</td>\n",
       "      <td>Adult</td>\n",
       "      <td>4.0</td>\n",
       "      <td>q1</td>\n",
       "    </tr>\n",
       "    <tr>\n",
       "      <th>4</th>\n",
       "      <td>36</td>\n",
       "      <td>married</td>\n",
       "      <td>secondary</td>\n",
       "      <td>no</td>\n",
       "      <td>1761</td>\n",
       "      <td>yes</td>\n",
       "      <td>no</td>\n",
       "      <td>19</td>\n",
       "      <td>sep</td>\n",
       "      <td>2.950000</td>\n",
       "      <td>1</td>\n",
       "      <td>-1</td>\n",
       "      <td>0</td>\n",
       "      <td>success</td>\n",
       "      <td>0.0</td>\n",
       "      <td>blue-collar</td>\n",
       "      <td>1.0</td>\n",
       "      <td>Adult</td>\n",
       "      <td>3.0</td>\n",
       "      <td>q3</td>\n",
       "    </tr>\n",
       "  </tbody>\n",
       "</table>\n",
       "</div>"
      ],
      "text/plain": [
       "   age   marital  education default  balance housing loan  day month  \\\n",
       "0   51   married   tertiary      no      148      no   no   15   apr   \n",
       "1   55   married  secondary      no     7160     yes   no    4   may   \n",
       "2   65  divorced   tertiary      no     2197     yes   no   12   may   \n",
       "3   25   married  secondary      no     6658     yes   no   16   feb   \n",
       "4   36   married  secondary      no     1761     yes   no   19   sep   \n",
       "\n",
       "   duration  campaign  pdays  previous poutcome  y_bool   profession  \\\n",
       "0  4.383333         2     -1         0  unknown     0.0     employed   \n",
       "1  5.250000         1     -1         0  unknown     0.0  blue-collar   \n",
       "2  1.700000         2     -1         0  unknown     0.0  blue-collar   \n",
       "3  3.283333         1     -1         0  unknown     1.0     employed   \n",
       "4  2.950000         1     -1         0  success     0.0  blue-collar   \n",
       "\n",
       "   age_bins age_cat  balance_bins month_cat  \n",
       "0       1.0  Mature           0.0        q2  \n",
       "1       2.0  Senior           4.0        q2  \n",
       "2       2.0  Senior           3.0        q2  \n",
       "3       0.0   Adult           4.0        q1  \n",
       "4       1.0   Adult           3.0        q3  "
      ]
     },
     "execution_count": 58,
     "metadata": {},
     "output_type": "execute_result"
    }
   ],
   "source": [
    "newdata.head()"
   ]
  },
  {
   "cell_type": "code",
   "execution_count": 59,
   "id": "dfc1f088",
   "metadata": {},
   "outputs": [],
   "source": [
    "# Dropping day and month\n",
    "newdata.drop(['day','month'],axis=1,inplace=True)"
   ]
  },
  {
   "cell_type": "code",
   "execution_count": 60,
   "id": "fcb869ee",
   "metadata": {},
   "outputs": [],
   "source": [
    "#Split the Data in train and test\n",
    "\n",
    "newtrain = newdata.loc[0:train.shape[0]-1,:]\n",
    "newtest = newdata.loc[train.shape[0]:,:]\n",
    "\n",
    "newtest.drop('y_bool',axis=1,inplace=True)"
   ]
  },
  {
   "cell_type": "code",
   "execution_count": 61,
   "id": "76bee7e8",
   "metadata": {},
   "outputs": [],
   "source": [
    "#Convert target into integer...\n",
    "newtrain['y_bool']=newtrain.y_bool.astype(int)"
   ]
  },
  {
   "cell_type": "code",
   "execution_count": 62,
   "id": "5972e4d8",
   "metadata": {},
   "outputs": [
    {
     "data": {
      "text/plain": [
       "((21000, 18), (9000, 17), (21000, 17), (9000, 16))"
      ]
     },
     "execution_count": 62,
     "metadata": {},
     "output_type": "execute_result"
    }
   ],
   "source": [
    "newtrain.shape,newtest.shape,train.shape,test.shape"
   ]
  },
  {
   "cell_type": "code",
   "execution_count": 63,
   "id": "cc457547",
   "metadata": {},
   "outputs": [],
   "source": [
    "newtrain['age_bins']=newtrain.age_bins.astype(int)\n",
    "newtrain['balance_bins']=newtrain.balance_bins.astype(int)\n",
    "newtrain['y_bool'] = newtrain.y_bool.astype(int)"
   ]
  },
  {
   "cell_type": "code",
   "execution_count": 64,
   "id": "20e23da2",
   "metadata": {},
   "outputs": [],
   "source": [
    "newtest['age_bins'] = newtest.age_bins.astype(int)\n",
    "newtest['balance_bins'] = newtest.balance_bins.astype(int)"
   ]
  },
  {
   "cell_type": "markdown",
   "id": "a8a60ef3",
   "metadata": {},
   "source": [
    "# Modeling"
   ]
  },
  {
   "cell_type": "code",
   "execution_count": 65,
   "id": "7a9c924e",
   "metadata": {},
   "outputs": [],
   "source": [
    "dummytrain = pd.get_dummies(newtrain,drop_first=True)\n",
    "dummytest =pd.get_dummies(newtest,drop_first=True)"
   ]
  },
  {
   "cell_type": "code",
   "execution_count": 66,
   "id": "ccd780c7",
   "metadata": {},
   "outputs": [],
   "source": [
    "x = dummytrain.drop('y_bool',axis=1)\n",
    "y = dummytrain.y_bool"
   ]
  },
  {
   "cell_type": "markdown",
   "id": "7401b9f1",
   "metadata": {},
   "source": [
    "### Logistic Regression Model"
   ]
  },
  {
   "cell_type": "code",
   "execution_count": null,
   "id": "34a9e16b",
   "metadata": {},
   "outputs": [],
   "source": []
  },
  {
   "cell_type": "code",
   "execution_count": 67,
   "id": "e55b178b",
   "metadata": {},
   "outputs": [],
   "source": [
    "from sklearn.linear_model import LogisticRegression\n",
    "lr = LogisticRegression()\n",
    "\n",
    "from sklearn.model_selection import StratifiedKFold"
   ]
  },
  {
   "cell_type": "code",
   "execution_count": 68,
   "id": "f33f0e67",
   "metadata": {},
   "outputs": [],
   "source": [
    "kfold = StratifiedKFold(n_splits=10,shuffle=True,random_state=42)\n",
    "\n",
    "pred = []\n",
    "for train_index,test_index in kfold.split(x,y):\n",
    "    xtrain = x.loc[train_index]\n",
    "    ytrain = y.loc[train_index]\n",
    "    pred.append(lr.fit(xtrain,ytrain).predict(dummytest))"
   ]
  },
  {
   "cell_type": "code",
   "execution_count": 69,
   "id": "6a633fda",
   "metadata": {},
   "outputs": [],
   "source": [
    "finalpred = np.abs(pd.DataFrame(pred).T.mode(axis = 1)[0])"
   ]
  },
  {
   "cell_type": "code",
   "execution_count": 70,
   "id": "0e852c32",
   "metadata": {},
   "outputs": [
    {
     "data": {
      "text/html": [
       "<div>\n",
       "<style scoped>\n",
       "    .dataframe tbody tr th:only-of-type {\n",
       "        vertical-align: middle;\n",
       "    }\n",
       "\n",
       "    .dataframe tbody tr th {\n",
       "        vertical-align: top;\n",
       "    }\n",
       "\n",
       "    .dataframe thead th {\n",
       "        text-align: right;\n",
       "    }\n",
       "</style>\n",
       "<table border=\"1\" class=\"dataframe\">\n",
       "  <thead>\n",
       "    <tr style=\"text-align: right;\">\n",
       "      <th></th>\n",
       "      <th>0</th>\n",
       "      <th>1</th>\n",
       "      <th>2</th>\n",
       "      <th>3</th>\n",
       "      <th>4</th>\n",
       "      <th>5</th>\n",
       "      <th>6</th>\n",
       "      <th>7</th>\n",
       "      <th>8</th>\n",
       "      <th>9</th>\n",
       "    </tr>\n",
       "  </thead>\n",
       "  <tbody>\n",
       "    <tr>\n",
       "      <th>0</th>\n",
       "      <td>0</td>\n",
       "      <td>0</td>\n",
       "      <td>0</td>\n",
       "      <td>0</td>\n",
       "      <td>0</td>\n",
       "      <td>0</td>\n",
       "      <td>0</td>\n",
       "      <td>0</td>\n",
       "      <td>0</td>\n",
       "      <td>0</td>\n",
       "    </tr>\n",
       "  </tbody>\n",
       "</table>\n",
       "</div>"
      ],
      "text/plain": [
       "   0  1  2  3  4  5  6  7  8  9\n",
       "0  0  0  0  0  0  0  0  0  0  0"
      ]
     },
     "execution_count": 70,
     "metadata": {},
     "output_type": "execute_result"
    }
   ],
   "source": [
    "pd.DataFrame(pred).T.mode()"
   ]
  },
  {
   "cell_type": "code",
   "execution_count": 71,
   "id": "0f7e20b6",
   "metadata": {},
   "outputs": [],
   "source": [
    "submission = pd.DataFrame({'y_bool':finalpred})\n",
    "\n",
    "submission.to_csv(\"LR_Model.csv\", index = False) "
   ]
  },
  {
   "cell_type": "code",
   "execution_count": 72,
   "id": "9dce2ea7",
   "metadata": {},
   "outputs": [
    {
     "name": "stdout",
     "output_type": "stream",
     "text": [
      "C:\\Users\\Chaitanya\n"
     ]
    }
   ],
   "source": [
    "cd"
   ]
  },
  {
   "cell_type": "markdown",
   "id": "4c180be0",
   "metadata": {},
   "source": [
    "### Random Forest"
   ]
  },
  {
   "cell_type": "code",
   "execution_count": 73,
   "id": "7b777ad8",
   "metadata": {},
   "outputs": [],
   "source": [
    "from sklearn.ensemble import RandomForestClassifier"
   ]
  },
  {
   "cell_type": "code",
   "execution_count": 74,
   "id": "ec379fdc",
   "metadata": {},
   "outputs": [],
   "source": [
    "rf = RandomForestClassifier()"
   ]
  },
  {
   "cell_type": "code",
   "execution_count": 75,
   "id": "173be95e",
   "metadata": {},
   "outputs": [],
   "source": [
    "pred = []\n",
    "for train_index,test_index in kfold.split(x,y):\n",
    "    xtrain = x.loc[train_index]\n",
    "    ytrain = y.loc[train_index]\n",
    "    pred.append(rf.fit(xtrain,ytrain).predict(dummytest))"
   ]
  },
  {
   "cell_type": "code",
   "execution_count": 76,
   "id": "9aed53ed",
   "metadata": {},
   "outputs": [],
   "source": [
    "finalpred = np.abs(pd.DataFrame(pred).T.mode(axis = 1)[0])"
   ]
  },
  {
   "cell_type": "code",
   "execution_count": 77,
   "id": "e25a1151",
   "metadata": {},
   "outputs": [],
   "source": [
    "submission = pd.DataFrame({'y_bool':finalpred})\n",
    "\n",
    "submission.to_csv(\"RFModel.csv\", index = False) "
   ]
  },
  {
   "cell_type": "markdown",
   "id": "b0328b84",
   "metadata": {},
   "source": [
    "### Gradient Boosting"
   ]
  },
  {
   "cell_type": "code",
   "execution_count": 78,
   "id": "fdabd348",
   "metadata": {},
   "outputs": [],
   "source": [
    "from sklearn.ensemble import GradientBoostingRegressor,GradientBoostingClassifier"
   ]
  },
  {
   "cell_type": "code",
   "execution_count": 79,
   "id": "2f0253c2",
   "metadata": {},
   "outputs": [],
   "source": [
    "gbm = GradientBoostingClassifier()"
   ]
  },
  {
   "cell_type": "code",
   "execution_count": 80,
   "id": "f6afb288",
   "metadata": {},
   "outputs": [],
   "source": [
    "pred = []\n",
    "for train_index,test_index in kfold.split(x,y):\n",
    "    xtrain = x.loc[train_index]\n",
    "    ytrain = y.loc[train_index]\n",
    "    pred.append(gbm.fit(xtrain,ytrain).predict(dummytest))"
   ]
  },
  {
   "cell_type": "code",
   "execution_count": 81,
   "id": "22c2b918",
   "metadata": {},
   "outputs": [],
   "source": [
    "finalpred = np.abs(pd.DataFrame(pred).T.mode(axis = 1)[0])"
   ]
  },
  {
   "cell_type": "code",
   "execution_count": 82,
   "id": "1b92df7b",
   "metadata": {},
   "outputs": [],
   "source": [
    "submission = pd.DataFrame({'y_bool':finalpred})\n",
    "\n",
    "submission.to_csv(\"GBMModel.csv\", index = False) "
   ]
  },
  {
   "cell_type": "markdown",
   "id": "80bd490c",
   "metadata": {},
   "source": [
    "### SMOTE "
   ]
  },
  {
   "cell_type": "code",
   "execution_count": 83,
   "id": "1c7f7f6f",
   "metadata": {},
   "outputs": [],
   "source": [
    "from imblearn.over_sampling import SMOTE\n",
    "smote = SMOTE(sampling_strategy='minority')\n",
    "smotex,smotey =smote.fit_resample(x,y)"
   ]
  },
  {
   "cell_type": "code",
   "execution_count": 84,
   "id": "89df7d54",
   "metadata": {},
   "outputs": [],
   "source": [
    "pred = []\n",
    "for train_index,test_index in kfold.split(smotex,smotey):\n",
    "    xtrain = smotex.loc[train_index]\n",
    "    ytrain = smotey.loc[train_index]\n",
    "    pred.append(lr.fit(xtrain,ytrain).predict(dummytest))"
   ]
  },
  {
   "cell_type": "code",
   "execution_count": 85,
   "id": "df81736e",
   "metadata": {},
   "outputs": [],
   "source": [
    "finalpred = np.abs(pd.DataFrame(pred).T.mean(axis = 1))"
   ]
  },
  {
   "cell_type": "code",
   "execution_count": 86,
   "id": "51f57d91",
   "metadata": {},
   "outputs": [],
   "source": [
    "submission = pd.DataFrame({'y_bool':finalpred})\n",
    "\n",
    "submission.to_csv(\"SMOTE_LRModel1.csv\", index = False) "
   ]
  },
  {
   "cell_type": "markdown",
   "id": "3816f9f0",
   "metadata": {},
   "source": [
    "### Decision Tree"
   ]
  },
  {
   "cell_type": "code",
   "execution_count": 87,
   "id": "0840fa50",
   "metadata": {},
   "outputs": [],
   "source": [
    "from sklearn.tree import DecisionTreeClassifier"
   ]
  },
  {
   "cell_type": "code",
   "execution_count": 88,
   "id": "cbde5c64",
   "metadata": {},
   "outputs": [],
   "source": [
    "dt = DecisionTreeClassifier()"
   ]
  },
  {
   "cell_type": "code",
   "execution_count": 89,
   "id": "1d54dec0",
   "metadata": {},
   "outputs": [],
   "source": [
    "pred = []\n",
    "for train_index,test_index in kfold.split(x,y):\n",
    "    xtrain = x.loc[train_index]\n",
    "    ytrain = y.loc[train_index]\n",
    "    pred.append(dt.fit(xtrain,ytrain).predict(dummytest))"
   ]
  },
  {
   "cell_type": "code",
   "execution_count": 90,
   "id": "e5ba0116",
   "metadata": {},
   "outputs": [],
   "source": [
    "finalpred = np.abs(pd.DataFrame(pred).T.mode(axis = 1)[0])"
   ]
  },
  {
   "cell_type": "code",
   "execution_count": 91,
   "id": "bd18af04",
   "metadata": {},
   "outputs": [],
   "source": [
    "submission = pd.DataFrame({'y_bool':finalpred})\n",
    "\n",
    "submission.to_csv(\"DEcision_tree.csv\", index = False) "
   ]
  },
  {
   "cell_type": "code",
   "execution_count": 93,
   "id": "9d7e8798",
   "metadata": {},
   "outputs": [
    {
     "name": "stdout",
     "output_type": "stream",
     "text": [
      "Collecting mlxtend\n",
      "  Using cached mlxtend-0.21.0-py2.py3-none-any.whl (1.3 MB)\n",
      "Requirement already satisfied: joblib>=0.13.2 in c:\\users\\chaitanya\\anaconda3\\lib\\site-packages (from mlxtend) (1.1.0)\n",
      "Requirement already satisfied: numpy>=1.16.2 in c:\\users\\chaitanya\\anaconda3\\lib\\site-packages (from mlxtend) (1.21.5)\n",
      "Requirement already satisfied: matplotlib>=3.0.0 in c:\\users\\chaitanya\\anaconda3\\lib\\site-packages (from mlxtend) (3.5.2)\n",
      "Requirement already satisfied: setuptools in c:\\users\\chaitanya\\anaconda3\\lib\\site-packages (from mlxtend) (63.4.1)\n",
      "Requirement already satisfied: scipy>=1.2.1 in c:\\users\\chaitanya\\anaconda3\\lib\\site-packages (from mlxtend) (1.9.1)\n",
      "Requirement already satisfied: scikit-learn>=1.0.2 in c:\\users\\chaitanya\\anaconda3\\lib\\site-packages (from mlxtend) (1.1.3)\n",
      "Requirement already satisfied: pandas>=0.24.2 in c:\\users\\chaitanya\\anaconda3\\lib\\site-packages (from mlxtend) (1.4.4)\n",
      "Requirement already satisfied: cycler>=0.10 in c:\\users\\chaitanya\\anaconda3\\lib\\site-packages (from matplotlib>=3.0.0->mlxtend) (0.11.0)\n",
      "Requirement already satisfied: packaging>=20.0 in c:\\users\\chaitanya\\anaconda3\\lib\\site-packages (from matplotlib>=3.0.0->mlxtend) (21.3)\n",
      "Requirement already satisfied: python-dateutil>=2.7 in c:\\users\\chaitanya\\anaconda3\\lib\\site-packages (from matplotlib>=3.0.0->mlxtend) (2.8.2)\n",
      "Requirement already satisfied: kiwisolver>=1.0.1 in c:\\users\\chaitanya\\anaconda3\\lib\\site-packages (from matplotlib>=3.0.0->mlxtend) (1.4.2)\n",
      "Requirement already satisfied: fonttools>=4.22.0 in c:\\users\\chaitanya\\anaconda3\\lib\\site-packages (from matplotlib>=3.0.0->mlxtend) (4.25.0)\n",
      "Requirement already satisfied: pyparsing>=2.2.1 in c:\\users\\chaitanya\\anaconda3\\lib\\site-packages (from matplotlib>=3.0.0->mlxtend) (3.0.9)\n",
      "Requirement already satisfied: pillow>=6.2.0 in c:\\users\\chaitanya\\anaconda3\\lib\\site-packages (from matplotlib>=3.0.0->mlxtend) (9.2.0)\n",
      "Requirement already satisfied: pytz>=2020.1 in c:\\users\\chaitanya\\anaconda3\\lib\\site-packages (from pandas>=0.24.2->mlxtend) (2022.1)\n",
      "Requirement already satisfied: threadpoolctl>=2.0.0 in c:\\users\\chaitanya\\anaconda3\\lib\\site-packages (from scikit-learn>=1.0.2->mlxtend) (2.2.0)\n",
      "Requirement already satisfied: six>=1.5 in c:\\users\\chaitanya\\anaconda3\\lib\\site-packages (from python-dateutil>=2.7->matplotlib>=3.0.0->mlxtend) (1.16.0)\n",
      "Installing collected packages: mlxtend\n",
      "Successfully installed mlxtend-0.21.0\n"
     ]
    }
   ],
   "source": [
    "!pip install mlxtend"
   ]
  },
  {
   "cell_type": "markdown",
   "id": "e6773540",
   "metadata": {},
   "source": [
    "# Sequential Feature Selector\n"
   ]
  },
  {
   "cell_type": "code",
   "execution_count": 94,
   "id": "3eaa1411",
   "metadata": {},
   "outputs": [
    {
     "name": "stderr",
     "output_type": "stream",
     "text": [
      "\n",
      "STOPPING EARLY DUE TO KEYBOARD INTERRUPT..."
     ]
    },
    {
     "data": {
      "text/html": [
       "<style>#sk-container-id-1 {color: black;background-color: white;}#sk-container-id-1 pre{padding: 0;}#sk-container-id-1 div.sk-toggleable {background-color: white;}#sk-container-id-1 label.sk-toggleable__label {cursor: pointer;display: block;width: 100%;margin-bottom: 0;padding: 0.3em;box-sizing: border-box;text-align: center;}#sk-container-id-1 label.sk-toggleable__label-arrow:before {content: \"▸\";float: left;margin-right: 0.25em;color: #696969;}#sk-container-id-1 label.sk-toggleable__label-arrow:hover:before {color: black;}#sk-container-id-1 div.sk-estimator:hover label.sk-toggleable__label-arrow:before {color: black;}#sk-container-id-1 div.sk-toggleable__content {max-height: 0;max-width: 0;overflow: hidden;text-align: left;background-color: #f0f8ff;}#sk-container-id-1 div.sk-toggleable__content pre {margin: 0.2em;color: black;border-radius: 0.25em;background-color: #f0f8ff;}#sk-container-id-1 input.sk-toggleable__control:checked~div.sk-toggleable__content {max-height: 200px;max-width: 100%;overflow: auto;}#sk-container-id-1 input.sk-toggleable__control:checked~label.sk-toggleable__label-arrow:before {content: \"▾\";}#sk-container-id-1 div.sk-estimator input.sk-toggleable__control:checked~label.sk-toggleable__label {background-color: #d4ebff;}#sk-container-id-1 div.sk-label input.sk-toggleable__control:checked~label.sk-toggleable__label {background-color: #d4ebff;}#sk-container-id-1 input.sk-hidden--visually {border: 0;clip: rect(1px 1px 1px 1px);clip: rect(1px, 1px, 1px, 1px);height: 1px;margin: -1px;overflow: hidden;padding: 0;position: absolute;width: 1px;}#sk-container-id-1 div.sk-estimator {font-family: monospace;background-color: #f0f8ff;border: 1px dotted black;border-radius: 0.25em;box-sizing: border-box;margin-bottom: 0.5em;}#sk-container-id-1 div.sk-estimator:hover {background-color: #d4ebff;}#sk-container-id-1 div.sk-parallel-item::after {content: \"\";width: 100%;border-bottom: 1px solid gray;flex-grow: 1;}#sk-container-id-1 div.sk-label:hover label.sk-toggleable__label {background-color: #d4ebff;}#sk-container-id-1 div.sk-serial::before {content: \"\";position: absolute;border-left: 1px solid gray;box-sizing: border-box;top: 0;bottom: 0;left: 50%;z-index: 0;}#sk-container-id-1 div.sk-serial {display: flex;flex-direction: column;align-items: center;background-color: white;padding-right: 0.2em;padding-left: 0.2em;position: relative;}#sk-container-id-1 div.sk-item {position: relative;z-index: 1;}#sk-container-id-1 div.sk-parallel {display: flex;align-items: stretch;justify-content: center;background-color: white;position: relative;}#sk-container-id-1 div.sk-item::before, #sk-container-id-1 div.sk-parallel-item::before {content: \"\";position: absolute;border-left: 1px solid gray;box-sizing: border-box;top: 0;bottom: 0;left: 50%;z-index: -1;}#sk-container-id-1 div.sk-parallel-item {display: flex;flex-direction: column;z-index: 1;position: relative;background-color: white;}#sk-container-id-1 div.sk-parallel-item:first-child::after {align-self: flex-end;width: 50%;}#sk-container-id-1 div.sk-parallel-item:last-child::after {align-self: flex-start;width: 50%;}#sk-container-id-1 div.sk-parallel-item:only-child::after {width: 0;}#sk-container-id-1 div.sk-dashed-wrapped {border: 1px dashed gray;margin: 0 0.4em 0.5em 0.4em;box-sizing: border-box;padding-bottom: 0.4em;background-color: white;}#sk-container-id-1 div.sk-label label {font-family: monospace;font-weight: bold;display: inline-block;line-height: 1.2em;}#sk-container-id-1 div.sk-label-container {text-align: center;}#sk-container-id-1 div.sk-container {/* jupyter's `normalize.less` sets `[hidden] { display: none; }` but bootstrap.min.css set `[hidden] { display: none !important; }` so we also need the `!important` here to be able to override the default hidden behavior on the sphinx rendered scikit-learn.org. See: https://github.com/scikit-learn/scikit-learn/issues/21755 */display: inline-block !important;position: relative;}#sk-container-id-1 div.sk-text-repr-fallback {display: none;}</style><div id=\"sk-container-id-1\" class=\"sk-top-container\"><div class=\"sk-text-repr-fallback\"><pre>SequentialFeatureSelector(estimator=RandomForestClassifier(),\n",
       "                          k_features=(1, 27), scoring=&#x27;accuracy&#x27;)</pre><b>In a Jupyter environment, please rerun this cell to show the HTML representation or trust the notebook. <br />On GitHub, the HTML representation is unable to render, please try loading this page with nbviewer.org.</b></div><div class=\"sk-container\" hidden><div class=\"sk-item sk-dashed-wrapped\"><div class=\"sk-label-container\"><div class=\"sk-label sk-toggleable\"><input class=\"sk-toggleable__control sk-hidden--visually\" id=\"sk-estimator-id-1\" type=\"checkbox\" ><label for=\"sk-estimator-id-1\" class=\"sk-toggleable__label sk-toggleable__label-arrow\">SequentialFeatureSelector</label><div class=\"sk-toggleable__content\"><pre>SequentialFeatureSelector(estimator=RandomForestClassifier(),\n",
       "                          k_features=(1, 27), scoring=&#x27;accuracy&#x27;)</pre></div></div></div><div class=\"sk-parallel\"><div class=\"sk-parallel-item\"><div class=\"sk-item\"><div class=\"sk-label-container\"><div class=\"sk-label sk-toggleable\"><input class=\"sk-toggleable__control sk-hidden--visually\" id=\"sk-estimator-id-2\" type=\"checkbox\" ><label for=\"sk-estimator-id-2\" class=\"sk-toggleable__label sk-toggleable__label-arrow\">estimator: RandomForestClassifier</label><div class=\"sk-toggleable__content\"><pre>RandomForestClassifier()</pre></div></div></div><div class=\"sk-serial\"><div class=\"sk-item\"><div class=\"sk-estimator sk-toggleable\"><input class=\"sk-toggleable__control sk-hidden--visually\" id=\"sk-estimator-id-3\" type=\"checkbox\" ><label for=\"sk-estimator-id-3\" class=\"sk-toggleable__label sk-toggleable__label-arrow\">RandomForestClassifier</label><div class=\"sk-toggleable__content\"><pre>RandomForestClassifier()</pre></div></div></div></div></div></div></div></div></div></div>"
      ],
      "text/plain": [
       "SequentialFeatureSelector(estimator=RandomForestClassifier(),\n",
       "                          k_features=(1, 27), scoring='accuracy')"
      ]
     },
     "execution_count": 94,
     "metadata": {},
     "output_type": "execute_result"
    }
   ],
   "source": [
    "from mlxtend.feature_selection import SequentialFeatureSelector\n",
    "\n",
    "sfs = SequentialFeatureSelector(estimator=RandomForestClassifier(),k_features='best',forward=True)\n",
    "sfs.fit(smotex,smotey)"
   ]
  },
  {
   "cell_type": "code",
   "execution_count": 96,
   "id": "cf116107",
   "metadata": {},
   "outputs": [
    {
     "name": "stdout",
     "output_type": "stream",
     "text": [
      "Collecting lightgbm\n",
      "  Downloading lightgbm-3.3.3-py3-none-win_amd64.whl (1.0 MB)\n",
      "     ---------------------------------------- 1.0/1.0 MB 1.5 MB/s eta 0:00:00\n",
      "Requirement already satisfied: scipy in c:\\users\\chaitanya\\anaconda3\\lib\\site-packages (from lightgbm) (1.9.1)\n",
      "Requirement already satisfied: numpy in c:\\users\\chaitanya\\anaconda3\\lib\\site-packages (from lightgbm) (1.21.5)\n",
      "Requirement already satisfied: wheel in c:\\users\\chaitanya\\anaconda3\\lib\\site-packages (from lightgbm) (0.37.1)\n",
      "Requirement already satisfied: scikit-learn!=0.22.0 in c:\\users\\chaitanya\\anaconda3\\lib\\site-packages (from lightgbm) (1.1.3)\n",
      "Requirement already satisfied: threadpoolctl>=2.0.0 in c:\\users\\chaitanya\\anaconda3\\lib\\site-packages (from scikit-learn!=0.22.0->lightgbm) (2.2.0)\n",
      "Requirement already satisfied: joblib>=1.0.0 in c:\\users\\chaitanya\\anaconda3\\lib\\site-packages (from scikit-learn!=0.22.0->lightgbm) (1.1.0)\n",
      "Installing collected packages: lightgbm\n",
      "Successfully installed lightgbm-3.3.3\n"
     ]
    }
   ],
   "source": [
    "!pip install lightgbm"
   ]
  },
  {
   "cell_type": "code",
   "execution_count": 97,
   "id": "ea5b7d22",
   "metadata": {},
   "outputs": [
    {
     "ename": "NameError",
     "evalue": "name 'StratifieldKFold' is not defined",
     "output_type": "error",
     "traceback": [
      "\u001b[1;31m---------------------------------------------------------------------------\u001b[0m",
      "\u001b[1;31mNameError\u001b[0m                                 Traceback (most recent call last)",
      "\u001b[1;32m~\\AppData\\Local\\Temp\\ipykernel_13912\\2825140318.py\u001b[0m in \u001b[0;36m<module>\u001b[1;34m\u001b[0m\n\u001b[0;32m      3\u001b[0m \u001b[0mlgbm\u001b[0m \u001b[1;33m=\u001b[0m \u001b[0mLGBMClassifier\u001b[0m\u001b[1;33m(\u001b[0m\u001b[1;33m)\u001b[0m\u001b[1;33m\u001b[0m\u001b[1;33m\u001b[0m\u001b[0m\n\u001b[0;32m      4\u001b[0m \u001b[1;33m\u001b[0m\u001b[0m\n\u001b[1;32m----> 5\u001b[1;33m \u001b[0mkfold\u001b[0m \u001b[1;33m=\u001b[0m \u001b[0mStratifieldKFold\u001b[0m\u001b[1;33m(\u001b[0m\u001b[0mn_splits\u001b[0m \u001b[1;33m=\u001b[0m \u001b[1;36m5\u001b[0m\u001b[1;33m,\u001b[0m\u001b[0mshuffle\u001b[0m \u001b[1;33m=\u001b[0m \u001b[1;32mTrue\u001b[0m\u001b[1;33m,\u001b[0m\u001b[0mrandom_state\u001b[0m \u001b[1;33m=\u001b[0m \u001b[1;36m42\u001b[0m\u001b[1;33m)\u001b[0m\u001b[1;33m\u001b[0m\u001b[1;33m\u001b[0m\u001b[0m\n\u001b[0m\u001b[0;32m      6\u001b[0m \u001b[1;33m\u001b[0m\u001b[0m\n\u001b[0;32m      7\u001b[0m \u001b[0mpred\u001b[0m \u001b[1;33m=\u001b[0m \u001b[1;33m[\u001b[0m\u001b[1;33m]\u001b[0m\u001b[1;33m\u001b[0m\u001b[1;33m\u001b[0m\u001b[0m\n",
      "\u001b[1;31mNameError\u001b[0m: name 'StratifieldKFold' is not defined"
     ]
    }
   ],
   "source": [
    "# light Gbm \n",
    "from lightgbm import LGBMClassifier\n",
    "lgbm = LGBMClassifier()\n",
    "\n",
    "kfold = StratifieldKFold(n_splits = 5,shuffle = True,random_state = 42)\n",
    "\n",
    "pred = []\n",
    "for train_index,test_index in kfold.split(x,y):\n",
    "    xtrain = x.loc[train_index]\n",
    "    ytrain = y.loc[train_index]\n",
    "    pred.append(dt.fit(xtrain,ytrain).predict(dummytest))\n",
    "    \n",
    "finalpred = np.abs(pd.DataFrame(pred).T.mode(axis = 1)[0])\n",
    "submission = pd.DataFrame({'y_bool':finalpred})\n",
    "\n",
    "submission.to_csv(\"lightgbmodel.csv\", index = False) "
   ]
  },
  {
   "cell_type": "code",
   "execution_count": null,
   "id": "5c496c9b",
   "metadata": {},
   "outputs": [],
   "source": []
  }
 ],
 "metadata": {
  "kernelspec": {
   "display_name": "Python 3 (ipykernel)",
   "language": "python",
   "name": "python3"
  },
  "language_info": {
   "codemirror_mode": {
    "name": "ipython",
    "version": 3
   },
   "file_extension": ".py",
   "mimetype": "text/x-python",
   "name": "python",
   "nbconvert_exporter": "python",
   "pygments_lexer": "ipython3",
   "version": "3.9.13"
  }
 },
 "nbformat": 4,
 "nbformat_minor": 5
}
